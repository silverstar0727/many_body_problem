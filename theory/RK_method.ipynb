{
  "nbformat": 4,
  "nbformat_minor": 0,
  "metadata": {
    "colab": {
      "name": "RK_method.ipynb",
      "provenance": [],
      "collapsed_sections": [],
      "authorship_tag": "ABX9TyNYlSUQmSJFTtKkEmCrk1Eb",
      "include_colab_link": true
    },
    "kernelspec": {
      "name": "python3",
      "display_name": "Python 3"
    }
  },
  "cells": [
    {
      "cell_type": "markdown",
      "metadata": {
        "id": "view-in-github",
        "colab_type": "text"
      },
      "source": [
        "<a href=\"https://colab.research.google.com/github/silverstar0727/n_body_problem/blob/master/theory/RK_method.ipynb\" target=\"_parent\"><img src=\"https://colab.research.google.com/assets/colab-badge.svg\" alt=\"Open In Colab\"/></a>"
      ]
    },
    {
      "cell_type": "markdown",
      "metadata": {
        "id": "VjUbmqoH_SAq",
        "colab_type": "text"
      },
      "source": [
        "### Runge-Kutta method\n",
        "\n",
        "Runge-Kutta방법은 각 단계에서 보조값 $k_1, k_2, k_3, k_4$를 계산하고 이를 이용하여 $y_{n + 1}$를 계산한다.\n",
        "\n",
        "RK법은 다음 항을 계산하지 않아도 된다는 특이 사항이 있는데, 가령 Euler 방법에서는 $x_{n + 1}$항이 요구 되었으나, RK에는 $n+1$번째 항이 요구되지 않는다.\n",
        ">예) $f = x + y$이고 $h = 0.2$일 때 6번째 까지의 수치해석 해"
      ]
    },
    {
      "cell_type": "code",
      "metadata": {
        "id": "OcPdz5TzeuU4",
        "colab_type": "code",
        "colab": {}
      },
      "source": [
        "def f(x, y):\n",
        "  return x + y\n",
        "\n",
        "def RK(x_0, y_0, h, n):\n",
        "  x = x_0\n",
        "  y = y_0\n",
        "  for i in range(6):\n",
        "    k_1 = h*f(x,y)\n",
        "    k_2 = h*f(x + (1/2)*h, y + (1/2)*k_1)\n",
        "    k_3 = h*f(x + (1/2)*h, y + (1/2)*k_2)\n",
        "    k_4 = h*f(x + h, y + k_3)\n",
        "\n",
        "    x = x +h\n",
        "    y = y + (1/6)*(k_1 + 2*k_2 + 2*k_3+ k_4)\n",
        "\n",
        "    print(i + 1, 'x: %.5f, y: %.5f' %(x, y))"
      ],
      "execution_count": null,
      "outputs": []
    },
    {
      "cell_type": "code",
      "metadata": {
        "id": "DTI9f-C4P9aa",
        "colab_type": "code",
        "colab": {
          "base_uri": "https://localhost:8080/",
          "height": 125
        },
        "outputId": "f3e8b153-cd5e-4025-b4d7-b90511db34be"
      },
      "source": [
        "RK(0, 0, 0.2, 6)"
      ],
      "execution_count": null,
      "outputs": [
        {
          "output_type": "stream",
          "text": [
            "1 x: 0.20000, y: 0.02140\n",
            "2 x: 0.40000, y: 0.09182\n",
            "3 x: 0.60000, y: 0.22211\n",
            "4 x: 0.80000, y: 0.42552\n",
            "5 x: 1.00000, y: 0.71825\n",
            "6 x: 1.20000, y: 1.12007\n"
          ],
          "name": "stdout"
        }
      ]
    },
    {
      "cell_type": "markdown",
      "metadata": {
        "id": "bDcdj6H0DftT",
        "colab_type": "text"
      },
      "source": [
        "* RKF 5차(5-order Runge-Kutta-Fehlberg)방법\n",
        "\n",
        "RKF 5차 방법에서의 y는 다음과 같은 식으로 예측한다.$$y_{n+1} = y_n + \\gamma_1k_1 + ... + \\gamma_6k_6$$ 여기서 $$\\gamma = [{16\\over135}, 0, {6656 \\over 12825}, {28561 \\over 56430}, {-9\\over50}, {2\\over 55}]$$이다.\n",
        "\n",
        "* RKF의 오차\n",
        "\n",
        "RK법에서 격자크기 $h$에 대한 근사값을 $\\tilde y$라고 하면, 단계 당 후자의 오차는 전자의 오차의 $2^5$가 되고, 격자수는 반으로 줄게 되어 ${2^5\\over2} = 16$배가 된다. \n",
        "> 예) $f = \\tan(x) + x + 1$에서 $h = 0.1$일 때, 수치해석 해"
      ]
    },
    {
      "cell_type": "code",
      "metadata": {
        "id": "5g-FB2muP6XD",
        "colab_type": "code",
        "colab": {}
      },
      "source": [
        "import math\n",
        "\n",
        "def f(x, y):\n",
        "  return math.tan(x) + x + 1\n",
        "\n",
        "def RKF(x_0, y_0, h, n):\n",
        "  x = x_0\n",
        "  y = y_0\n",
        "  \n",
        "  for i in range(6):\n",
        "    k_1 = h*f(x,y)\n",
        "    k_2 = h*f(x + (1/4)*h, y + (1/4)*k_1)\n",
        "    k_3 = h*f(x + (3/8)*h, y + (3/32)*k_1 + (9/32)*k_2)\n",
        "    k_4 = h*f(x + (12/13)*h, y + (1932/2197)*k_1 - (7200/2197)*k_2 + (7296/2197)*k_3)\n",
        "    k_5 = h*f(x + h, y + (439/216)*k_1 - 8*k_2 + (3680/513)*k_3 - (845/4104)*k_4)\n",
        "    k_6 = h*f(x + (1/2)*h, y - (8/27)*k_1 + 2*k_2 - (3544/2565)*k_3 + (1859/4104)*k_4 - (11/40)*k_5)\n",
        "\n",
        "    x = x + h\n",
        "    y = y + (16/315)*k_1 + (6656/12825)*k_3 + (28561/56430)*k_4 + (-9/50)*k_5 + (2/55)*k_6\n",
        "\n",
        "    print(i+1, 'x: %.5f, y: %.5f' %(x, y))"
      ],
      "execution_count": null,
      "outputs": []
    },
    {
      "cell_type": "code",
      "metadata": {
        "id": "DyKc2MFHjFso",
        "colab_type": "code",
        "colab": {
          "base_uri": "https://localhost:8080/",
          "height": 125
        },
        "outputId": "b61ab79a-b389-4f8b-99e2-e268b68b2bbc"
      },
      "source": [
        "RKF(0, 0, 0.1, 6)"
      ],
      "execution_count": null,
      "outputs": [
        {
          "output_type": "stream",
          "text": [
            "1 x: 0.10000, y: 0.10324\n",
            "2 x: 0.20000, y: 0.22523\n",
            "3 x: 0.30000, y: 0.36629\n",
            "4 x: 0.40000, y: 0.52693\n",
            "5 x: 0.50000, y: 0.70794\n",
            "6 x: 0.60000, y: 0.91046\n"
          ],
          "name": "stdout"
        }
      ]
    }
  ]
}