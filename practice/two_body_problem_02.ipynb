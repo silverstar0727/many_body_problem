{
  "nbformat": 4,
  "nbformat_minor": 0,
  "metadata": {
    "colab": {
      "name": "two body problem.ipynb",
      "provenance": [],
      "collapsed_sections": [],
      "authorship_tag": "ABX9TyNQQwHw2TOaA5FrbMN3ddCR",
      "include_colab_link": true
    },
    "kernelspec": {
      "name": "python3",
      "display_name": "Python 3"
    }
  },
  "cells": [
    {
      "cell_type": "markdown",
      "metadata": {
        "id": "view-in-github",
        "colab_type": "text"
      },
      "source": [
        "<a href=\"https://colab.research.google.com/github/silverstar0727/many_body_problem/blob/master/two_body_problem_02.ipynb\" target=\"_parent\"><img src=\"https://colab.research.google.com/assets/colab-badge.svg\" alt=\"Open In Colab\"/></a>"
      ]
    },
    {
      "cell_type": "code",
      "metadata": {
        "id": "xiBKiJbFuDdT",
        "colab_type": "code",
        "colab": {}
      },
      "source": [
        "import time\n",
        "import pandas as pd"
      ],
      "execution_count": 0,
      "outputs": []
    },
    {
      "cell_type": "code",
      "metadata": {
        "id": "WoXGAxIBmAnd",
        "colab_type": "code",
        "colab": {}
      },
      "source": [
        "class particle:\n",
        "  def __init__(self, mass = 1, position = [0,0], velocity = [0, 0], name = 'name'):\n",
        "    self.mass = mass # 질량\n",
        "    self.position = position # 현재위치\n",
        "    self.velocity = velocity # 속도\n",
        "    self.name = name # 이름\n",
        "\n",
        "  def run(self, another_obj):\n",
        "    t = 60 # 시간 간격 [sec]\n",
        "    force = []\n",
        "    G = 6.6726 * (10**(-11)) # G는 중력상수 [Nm^2 /kg^2]\n",
        "\n",
        "    r_x = self.position[0] - another_obj.Pos()[0] # [m]\n",
        "    r_y = self.position[1] - another_obj.Pos()[1] # [m]\n",
        "    #r_z = self.position[2] - particle_.pos[2]\n",
        "    r = [-r_x, -r_y]\n",
        "\n",
        "    # 거리 dis [m]\n",
        "    dis = (r[0]**2 + r[1]**2) ** (1/2)\n",
        "\n",
        "    #힘의크기 force_ [N]\n",
        "    force_ = (self.mass * another_obj.Mass() * G) / (dis ** 2)\n",
        "    \n",
        "    # 단위 벡터 r_\n",
        "    r_ = list(map(lambda x: x/dis, r))\n",
        "\n",
        "    # 물체하나가 작용하는 힘 force [N]\n",
        "    force.append(list(map(lambda x: x * force_, r_)))\n",
        "\n",
        "    # 가속도 acc_ [m/s^2]\n",
        "    acc_ = list(map(lambda x: x / self.mass, force[0])) \n",
        "    \n",
        "    # 속도 [m/s]\n",
        "    self.velocity[0] = acc_[0] * t + self.velocity[0]\n",
        "    self.velocity[1] = acc_[1] * t + self.velocity[1]\n",
        "    # 위치 [m]\n",
        "    self.position[0] = self.velocity[0] * t + self.position[0]\n",
        "    self.position[1] = self.velocity[1] * t + self.position[1]\n",
        "    \n",
        "    return [self.position[0], self.position[1]]\n",
        "\n",
        "  def Mass(self): # 질량 반환\n",
        "    return self.mass\n",
        "\n",
        "  def Pos(self): # 위치 반환\n",
        "    return self.position\n",
        "\n",
        "  def Vel(self): # 속도 반환\n",
        "    return self.velocity\n",
        "\n",
        "  def Name(self): # 이름 반환\n",
        "    return self.name"
      ],
      "execution_count": 0,
      "outputs": []
    },
    {
      "cell_type": "code",
      "metadata": {
        "id": "Vpf26ngOpl8I",
        "colab_type": "code",
        "colab": {}
      },
      "source": [
        "class simulation():\n",
        "  def __init__(self):\n",
        "    self.particles = []\n",
        "    self.Sun_tra = []\n",
        "    self.Earth_tra = []\n",
        "  \n",
        "  def append(self, obj):\n",
        "    self.particles.append(obj)\n",
        "\n",
        "  def tra(self):\n",
        "    self.Sun_tra.append([self.particles[0].Pos()[0], self.particles[0].Pos()[1]])\n",
        "    self.Earth_tra.append([self.particles[1].Pos()[0], self.particles[1].Pos()[1]])\n",
        "\n",
        "  def run(self):\n",
        "    for i in range(len(self.particles)):\n",
        "      result = self.particles[i].run(self.particles[i-1])\n",
        "      if i == 1:\n",
        "        self.Earth_tra.append(result)\n",
        "      else:\n",
        "        self.Sun_tra.append(result)\n",
        "      \n",
        "    return self.Earth_tra, self.Sun_tra"
      ],
      "execution_count": 0,
      "outputs": []
    },
    {
      "cell_type": "code",
      "metadata": {
        "id": "-7TCCF6i1nOD",
        "colab_type": "code",
        "colab": {}
      },
      "source": [
        "# 질량 단위 [kg], 위치 단위 [m], 속도 단위 [m/s]\n",
        "Earth = particle(mass = 5.972 * (10**24), position = [149597870700, 0], velocity = [0, 0], name = 'Earth') # 객체 생성 3체\n",
        "Sun = particle(mass = 1.989 * (10**30), position = [0, 0], velocity = [0, 0], name = 'Sun') \n",
        "#Moon = particle(mass = 0.1, position = [0.9, 0.9], velocity = [0, 0], name = 'Moon')\n",
        "\n",
        "Sim = simulation() # 인스턴스 생성\n",
        "Sim.append(Earth)\n",
        "Sim.append(Sun)\n",
        "Sim.tra()\n",
        "\n",
        "for i in range(60):\n",
        "  data = Sim.run()"
      ],
      "execution_count": 0,
      "outputs": []
    },
    {
      "cell_type": "code",
      "metadata": {
        "id": "I38f335N1sBM",
        "colab_type": "code",
        "outputId": "fb1e216f-0ee6-4592-9c24-4d9548664f5b",
        "colab": {
          "base_uri": "https://localhost:8080/",
          "height": 35
        }
      },
      "source": [
        "data[1][0][0] - data[1][-1][0]"
      ],
      "execution_count": 0,
      "outputs": [
        {
          "output_type": "execute_result",
          "data": {
            "text/plain": [
              "39069.0344543457"
            ]
          },
          "metadata": {
            "tags": []
          },
          "execution_count": 65
        }
      ]
    },
    {
      "cell_type": "code",
      "metadata": {
        "id": "6SuyoM0K_PfN",
        "colab_type": "code",
        "outputId": "167a2b2e-1641-4870-ab62-3618b2730e31",
        "colab": {
          "base_uri": "https://localhost:8080/",
          "height": 1000
        }
      },
      "source": [
        "data[0]"
      ],
      "execution_count": 0,
      "outputs": [
        {
          "output_type": "execute_result",
          "data": {
            "text/plain": [
              "[[0, 0],\n",
              " [6.409943537532508e-05, 0.0],\n",
              " [0.0001922983061625644, 0.0],\n",
              " [0.0003845966124166017, 0.0],\n",
              " [0.0006409943542106155, 0.0],\n",
              " [0.0009614915316360786, 0.0],\n",
              " [0.0013460881448027586, 0.0],\n",
              " [0.0017947841938387179, 0.0],\n",
              " [0.002307579678890313, 0.0],\n",
              " [0.0028844746001221956, 0.0],\n",
              " [0.0035254689577173116, 0.0],\n",
              " [0.004230562751876902, 0.0],\n",
              " [0.004999755982820502, 0.0],\n",
              " [0.00583304865078594, 0.0],\n",
              " [0.006730440756029342, 0.0],\n",
              " [0.007691932298825127, 0.0],\n",
              " [0.008717523279466009, 0.0],\n",
              " [0.009807213698262995, 0.0],\n",
              " [0.010961003555545388, 0.0],\n",
              " [0.012178892851660787, 0.0],\n",
              " [0.013460881586975082, 0.0],\n",
              " [0.014806969761872462, 0.0],\n",
              " [0.016217157376755408, 0.0],\n",
              " [0.017691444432044692, 0.0],\n",
              " [0.01922983092817939, 0.0],\n",
              " [0.020832316865616866, 0.0],\n",
              " [0.02249890224483278, 0.0],\n",
              " [0.024229587066321084, 0.0],\n",
              " [0.02602437133059403, 0.0],\n",
              " [0.027883255038182158, 0.0],\n",
              " [0.029806238189634307, 0.0],\n",
              " [0.031793320785517616, 0.0],\n",
              " [0.0338445028264175, 0.0],\n",
              " [0.0359597843129377, 0.0],\n",
              " [0.03813916524570021, 0.0],\n",
              " [0.04038264562534536, 0.0],\n",
              " [0.042690225452531746, 0.0],\n",
              " [0.045061904727936274, 0.0],\n",
              " [0.047497683452254136, 0.0],\n",
              " [0.049997561626198825, 0.0],\n",
              " [0.05256153925050212, 0.0],\n",
              " [0.05518961632591411, 0.0],\n",
              " [0.05788179285320316, 0.0],\n",
              " [0.06063806883315594, 0.0],\n",
              " [0.06345844426657742, 0.0],\n",
              " [0.06634291915429084, 0.0],\n",
              " [0.06929149349713777, 0.0],\n",
              " [0.07230416729597805, 0.0],\n",
              " [0.07538094055168983, 0.0],\n",
              " [0.07852181326516953, 0.0],\n",
              " [0.0817267854373319, 0.0],\n",
              " [0.08499585706910995, 0.0],\n",
              " [0.088329028161455, 0.0],\n",
              " [0.09172629871533669, 0.0],\n",
              " [0.0951876687317429, 0.0],\n",
              " [0.09871313821167985, 0.0],\n",
              " [0.10230270715617203, 0.0],\n",
              " [0.10595637556626222, 0.0],\n",
              " [0.10967414344301155, 0.0],\n",
              " [0.11345601078749937, 0.0],\n",
              " [0.11730197760082335, 0.0]]"
            ]
          },
          "metadata": {
            "tags": []
          },
          "execution_count": 57
        }
      ]
    },
    {
      "cell_type": "code",
      "metadata": {
        "id": "lUxsHHdy_SsH",
        "colab_type": "code",
        "colab": {}
      },
      "source": [
        ""
      ],
      "execution_count": 0,
      "outputs": []
    }
  ]
}
