{
  "nbformat": 4,
  "nbformat_minor": 0,
  "metadata": {
    "colab": {
      "name": "Untitled1.ipynb",
      "provenance": [],
      "collapsed_sections": [],
      "authorship_tag": "ABX9TyPmfSBoduoP8BWbqzPwAcza",
      "include_colab_link": true
    },
    "kernelspec": {
      "name": "python3",
      "display_name": "Python 3"
    }
  },
  "cells": [
    {
      "cell_type": "markdown",
      "metadata": {
        "id": "view-in-github",
        "colab_type": "text"
      },
      "source": [
        "<a href=\"https://colab.research.google.com/github/silverstar0727/n_body_problem/blob/master/modeling/20.07.17.ipynb\" target=\"_parent\"><img src=\"https://colab.research.google.com/assets/colab-badge.svg\" alt=\"Open In Colab\"/></a>"
      ]
    },
    {
      "cell_type": "code",
      "metadata": {
        "id": "-vtf9M5vJNtC",
        "colab_type": "code",
        "colab": {}
      },
      "source": [
        "import numpy as np\n",
        "import math"
      ],
      "execution_count": null,
      "outputs": []
    },
    {
      "cell_type": "code",
      "metadata": {
        "id": "y_byON7dU070",
        "colab_type": "code",
        "colab": {}
      },
      "source": [
        "# initial condition\n",
        "r_0 = [[0.1, 0.1, 0.1], [1.1, 0.1, 0.1], [5.5, 0.1, 0.1]] # [m]\n",
        "v_0 = [[-1, 0, 0], [0, 0, 0], [0, 0, 0]] # [m/s]\n",
        "\n",
        "m1 = 1.989e30 # [m]\n",
        "m2 = 5.972e24\n",
        "m3 = 1.898e27"
      ],
      "execution_count": null,
      "outputs": []
    },
    {
      "cell_type": "code",
      "metadata": {
        "id": "s4y33KbJU2mn",
        "colab_type": "code",
        "colab": {}
      },
      "source": [
        "# constant\n",
        "G = 6.6726e-11 # [Nm2/kg2]"
      ],
      "execution_count": null,
      "outputs": []
    },
    {
      "cell_type": "markdown",
      "metadata": {
        "id": "IzyJdkfRA0h-",
        "colab_type": "text"
      },
      "source": [
        "![](https://upload.wikimedia.org/wikipedia/commons/b/bc/Spherical_coordinate.gif)"
      ]
    },
    {
      "cell_type": "code",
      "metadata": {
        "id": "GcY9bIJGgBIg",
        "colab_type": "code",
        "colab": {}
      },
      "source": [
        "# 물체 1,2\n",
        "def force12(r1, r2): # 물체 1과 2의 위치를 r1, r2의 직교좌표계 리스트로 받음\n",
        "  print(r1,r2)\n",
        "  F = np.zeros(3)\n",
        "  r12 = np.zeros(3)\n",
        "  \n",
        "  r12[0] = r1[0] - r2[0]\n",
        "  r12[1] = r1[1] - r2[1]\n",
        "  r12[2] = r1[2] - r1[2]\n",
        "\n",
        "  Fmag = G*m1*m2 / (np.linalg.norm(r12)**2) # 힘의크기\n",
        "  theta = math.asin(r12[2] / np.linalg.norm(r12)) # theta\n",
        "  pi = math.atan(np.abs(r12[1]/np.abs(r12[0]))) # pi\n",
        "\n",
        "  # Force\n",
        "  F[0] = Fmag * np.cos(theta) * np.cos(pi) \n",
        "  F[1] = Fmag * np.cos(theta) * np.sin(pi)\n",
        "  F[2] = Fmag * np.sin(theta)\n",
        "\n",
        "  return F\n",
        "\n",
        "def force23(r2, r3):\n",
        "  F = np.zeros(3)\n",
        "  r23 = np.zeros(3)\n",
        "  \n",
        "  r23[0] = r2[0] - r3[0]\n",
        "  r23[1] = r2[1] - r3[1]\n",
        "  r23[2] = r2[2] - r3[2]\n",
        "\n",
        "  Fmag = G*m2*m3 / (np.linalg.norm(r23)**2)\n",
        "  theta = math.asin(r23[2] / np.linalg.norm(r23))\n",
        "  pi = math.atan(np.abs(r23[1]/np.abs(r23[0])))\n",
        "\n",
        "  F[0] = Fmag * np.cos(theta) * np.cos(pi)\n",
        "  F[1] = Fmag * np.cos(theta) * np.sin(pi)\n",
        "  F[2] = Fmag * np.sin(theta)\n",
        "\n",
        "  return F\n",
        "\n",
        "def force13(r1, r3):\n",
        "  F = np.zeros(3)\n",
        "  r13 = np.zeros(3)\n",
        "  \n",
        "  r13[0] = r1[0] - r3[0]\n",
        "  r13[1] = r1[1] - r3[1]\n",
        "  r13[2] = r1[2] - r3[2]\n",
        "\n",
        "  Fmag = G*m1*m3 / (np.linalg.norm(r13)**2)\n",
        "  theta = math.asin(r13[2] / np.linalg.norm(r13))\n",
        "  pi = math.atan(np.abs(r13[1]/np.abs(r13[0])))\n",
        "\n",
        "  F[0] = Fmag * np.cos(theta) * np.cos(pi)\n",
        "  F[1] = Fmag * np.cos(theta) * np.sin(pi)\n",
        "  F[2] = Fmag * np.sin(theta)\n",
        "\n",
        "  return F\n",
        "\n",
        "# 타겟 물체에 대한 net force\n",
        "def force(object_num, r0):\n",
        "  # 타겟 물체를 각각 1,2,3의 정수로 object_num인자에 받고, 초기위치를 직교좌표계로 r_0에 3x3개 좌표로받음\n",
        "  if object_num == 1:\n",
        "    return force12(r0[0], r0[1]) + force13(r0[0], r0[2])\n",
        "  \n",
        "  elif object_num == 2:\n",
        "    return -force12(r0[0], r0[1]) + force23(r0[1], r0[2])\n",
        "  \n",
        "  elif object_num == 3:\n",
        "    return -force13(r0[0],r0[2]) - force23(r0[1], r0[2])\n",
        "  \n",
        "  else:\n",
        "    print('object_num error')"
      ],
      "execution_count": null,
      "outputs": []
    },
    {
      "cell_type": "code",
      "metadata": {
        "id": "Q26wNPkbhevG",
        "colab_type": "code",
        "colab": {}
      },
      "source": [
        "# 2계 ODE를 2개의 1계 ODE의 연립으로 변환\n",
        "def dr_dt(t, r, v, r0, v0):\n",
        "  return v\n",
        "\n",
        "def dv_dt(t, r, v, object_num, r0, v0):\n",
        "  if object_num == 1:\n",
        "    return force(object_num, r0)/m1\n",
        "  \n",
        "  elif object_num == 2:\n",
        "    return force(object_num, r0)/m2\n",
        "\n",
        "  elif object_num == 3:\n",
        "    return force(object_num, r0)/m3\n",
        "\n",
        "  else:\n",
        "    print('object_num error')\n",
        "\n",
        "\n",
        "# RK4 method를 이용한 numerical 풀이\n",
        "def RK4(t, r, v, h, object_num, r0, v0):\n",
        "  # r = [rx,ry,rz], v = [vx,vy,vz]꼴의 리스트, r0, v0 = [[1의 r,v], [2의 r,v], [3의 r,v]]\n",
        "  # 3차원 좌표계 3개에 대한 반복\n",
        "  for i in range(3):\n",
        "    a = h*np.array([dr_dt(t, r[i], v[i], r0, v0), \n",
        "                    dv_dt(t, r[i], v[i], object_num, r0, v0)])\n",
        "    b = h*np.array([dr_dt(t + 0.5*h, r[i], v[i] + 0.5*h*a[1], r0, v0), \n",
        "                    dv_dt(t + 0.5*h, r[i] + 0.5*h*a[0], v[i], object_num, r0, v0)])\n",
        "    c = h*np.array([dr_dt(t + 0.5*h, r[i], v[i] + 0.5*h*b[1], r0, v0), \n",
        "                    dv_dt(t + 0.5*h, r[i] + 0.5*h*b[0], v[i], object_num, r0, v0)])\n",
        "    d = h*np.array([dr_dt(t + h, r[i], v[i] + h*c[1], r0, v0), \n",
        "                    dv_dt(t + h, r[i] + h*c[0], v[i], object_num, r0, v0)])\n",
        "\n",
        "    r[i] = r[i] + (1/6)*(a[0] + 2*b[0] + 2*c[0] + d[0])\n",
        "    v[i] = v[i] + (1/6)*(a[1] + 2*b[1] + 2*c[1] + d[1])\n",
        "\n",
        "  return [r, v] # 2중 리스트: r의 3요소와 v의 3요소를 반환"
      ],
      "execution_count": null,
      "outputs": []
    },
    {
      "cell_type": "code",
      "metadata": {
        "id": "XBuVhLR8er62",
        "colab_type": "code",
        "colab": {
          "base_uri": "https://localhost:8080/",
          "height": 574
        },
        "outputId": "cadc16d4-e14d-4173-dc8e-c548f2da1ab7"
      },
      "source": [
        "h = 0.1 # time step size\n",
        "t = 0  # time\n",
        "n = 10 # 반복 횟수\n",
        "\n",
        "r = [r_0] # 3중 리스트: 전체 시계열 - object n - 요소\n",
        "v = [v_0] # 3중 리스트: 전체 시계열 - object n - 요소\n",
        "for i in range(n):\n",
        "  # 시간 증가마다 새로운 요소 추가\n",
        "  r.append([]) \n",
        "  v.append([])\n",
        "\n",
        "  # 물체 3개에 대한 반복\n",
        "  for object_num in range(1,4):\n",
        "    if object_num == 1:\n",
        "      result = RK4(t, r[-2][0], v[-2][0], h, object_num, r[-2], v[-2])\n",
        "      r[-1][0] = result[0]\n",
        "      v[-1][0] = result[1]\n",
        "\n",
        "    elif object_num == 2:\n",
        "      result = RK4(t, r[-2][1], v[-2][1], h, object_num, r[-2], v[-2])\n",
        "      r[-1][1] = result[0]\n",
        "      v[-1][1] = result[1] \n",
        "\n",
        "    else:\n",
        "      result = RK4(t, r[-2][2], v[-2][2], h, object_num, r[-2], v[-2])\n",
        "      r[-1][2] = result[1]\n",
        "      v[-1][2] = result[0]\n",
        "\n",
        "  t += h"
      ],
      "execution_count": null,
      "outputs": [
        {
          "output_type": "stream",
          "text": [
            "[0.1, 0.1, 0.1] [1.1, 0.1, 0.1]\n",
            "[0.1, 0.1, 0.1] [1.1, 0.1, 0.1]\n",
            "[0.1, 0.1, 0.1] [1.1, 0.1, 0.1]\n",
            "[0.1, 0.1, 0.1] [1.1, 0.1, 0.1]\n",
            "[array([2.37081359e+12, 1.38777878e-17, 1.38777878e-17]), 0.1, 0.1] [1.1, 0.1, 0.1]\n"
          ],
          "name": "stdout"
        },
        {
          "output_type": "error",
          "ename": "ValueError",
          "evalue": "ignored",
          "traceback": [
            "\u001b[0;31m---------------------------------------------------------------------------\u001b[0m",
            "\u001b[0;31mTypeError\u001b[0m                                 Traceback (most recent call last)",
            "\u001b[0;31mTypeError\u001b[0m: only size-1 arrays can be converted to Python scalars",
            "\nThe above exception was the direct cause of the following exception:\n",
            "\u001b[0;31mValueError\u001b[0m                                Traceback (most recent call last)",
            "\u001b[0;32m<ipython-input-227-79abc473e9c2>\u001b[0m in \u001b[0;36m<module>\u001b[0;34m()\u001b[0m\n\u001b[1;32m     13\u001b[0m   \u001b[0;32mfor\u001b[0m \u001b[0mobject_num\u001b[0m \u001b[0;32min\u001b[0m \u001b[0mrange\u001b[0m\u001b[0;34m(\u001b[0m\u001b[0;36m1\u001b[0m\u001b[0;34m,\u001b[0m\u001b[0;36m4\u001b[0m\u001b[0;34m)\u001b[0m\u001b[0;34m:\u001b[0m\u001b[0;34m\u001b[0m\u001b[0;34m\u001b[0m\u001b[0m\n\u001b[1;32m     14\u001b[0m     \u001b[0;32mif\u001b[0m \u001b[0mobject_num\u001b[0m \u001b[0;34m==\u001b[0m \u001b[0;36m1\u001b[0m\u001b[0;34m:\u001b[0m\u001b[0;34m\u001b[0m\u001b[0;34m\u001b[0m\u001b[0m\n\u001b[0;32m---> 15\u001b[0;31m       \u001b[0mresult\u001b[0m \u001b[0;34m=\u001b[0m \u001b[0mRK4\u001b[0m\u001b[0;34m(\u001b[0m\u001b[0mt\u001b[0m\u001b[0;34m,\u001b[0m \u001b[0mr\u001b[0m\u001b[0;34m[\u001b[0m\u001b[0;34m-\u001b[0m\u001b[0;36m2\u001b[0m\u001b[0;34m]\u001b[0m\u001b[0;34m[\u001b[0m\u001b[0;36m0\u001b[0m\u001b[0;34m]\u001b[0m\u001b[0;34m,\u001b[0m \u001b[0mv\u001b[0m\u001b[0;34m[\u001b[0m\u001b[0;34m-\u001b[0m\u001b[0;36m2\u001b[0m\u001b[0;34m]\u001b[0m\u001b[0;34m[\u001b[0m\u001b[0;36m0\u001b[0m\u001b[0;34m]\u001b[0m\u001b[0;34m,\u001b[0m \u001b[0mh\u001b[0m\u001b[0;34m,\u001b[0m \u001b[0mobject_num\u001b[0m\u001b[0;34m,\u001b[0m \u001b[0mr\u001b[0m\u001b[0;34m[\u001b[0m\u001b[0;34m-\u001b[0m\u001b[0;36m2\u001b[0m\u001b[0;34m]\u001b[0m\u001b[0;34m,\u001b[0m \u001b[0mv\u001b[0m\u001b[0;34m[\u001b[0m\u001b[0;34m-\u001b[0m\u001b[0;36m2\u001b[0m\u001b[0;34m]\u001b[0m\u001b[0;34m)\u001b[0m\u001b[0;34m\u001b[0m\u001b[0;34m\u001b[0m\u001b[0m\n\u001b[0m\u001b[1;32m     16\u001b[0m       \u001b[0mr\u001b[0m\u001b[0;34m[\u001b[0m\u001b[0;34m-\u001b[0m\u001b[0;36m1\u001b[0m\u001b[0;34m]\u001b[0m\u001b[0;34m[\u001b[0m\u001b[0;36m0\u001b[0m\u001b[0;34m]\u001b[0m \u001b[0;34m=\u001b[0m \u001b[0mresult\u001b[0m\u001b[0;34m[\u001b[0m\u001b[0;36m0\u001b[0m\u001b[0;34m]\u001b[0m\u001b[0;34m\u001b[0m\u001b[0;34m\u001b[0m\u001b[0m\n\u001b[1;32m     17\u001b[0m       \u001b[0mv\u001b[0m\u001b[0;34m[\u001b[0m\u001b[0;34m-\u001b[0m\u001b[0;36m1\u001b[0m\u001b[0;34m]\u001b[0m\u001b[0;34m[\u001b[0m\u001b[0;36m0\u001b[0m\u001b[0;34m]\u001b[0m \u001b[0;34m=\u001b[0m \u001b[0mresult\u001b[0m\u001b[0;34m[\u001b[0m\u001b[0;36m1\u001b[0m\u001b[0;34m]\u001b[0m\u001b[0;34m\u001b[0m\u001b[0;34m\u001b[0m\u001b[0m\n",
            "\u001b[0;32m<ipython-input-226-285339cf9fb2>\u001b[0m in \u001b[0;36mRK4\u001b[0;34m(t, r, v, h, object_num, r0, v0)\u001b[0m\n\u001b[1;32m     23\u001b[0m   \u001b[0;32mfor\u001b[0m \u001b[0mi\u001b[0m \u001b[0;32min\u001b[0m \u001b[0mrange\u001b[0m\u001b[0;34m(\u001b[0m\u001b[0;36m3\u001b[0m\u001b[0;34m)\u001b[0m\u001b[0;34m:\u001b[0m\u001b[0;34m\u001b[0m\u001b[0;34m\u001b[0m\u001b[0m\n\u001b[1;32m     24\u001b[0m     a = h*np.array([dr_dt(t, r[i], v[i], r0, v0), \n\u001b[0;32m---> 25\u001b[0;31m                     dv_dt(t, r[i], v[i], object_num, r0, v0)])\n\u001b[0m\u001b[1;32m     26\u001b[0m     b = h*np.array([dr_dt(t + 0.5*h, r[i], v[i] + 0.5*h*a[1], r0, v0), \n\u001b[1;32m     27\u001b[0m                     dv_dt(t + 0.5*h, r[i] + 0.5*h*a[0], v[i], object_num, r0, v0)])\n",
            "\u001b[0;32m<ipython-input-226-285339cf9fb2>\u001b[0m in \u001b[0;36mdv_dt\u001b[0;34m(t, r, v, object_num, r0, v0)\u001b[0m\n\u001b[1;32m      5\u001b[0m \u001b[0;32mdef\u001b[0m \u001b[0mdv_dt\u001b[0m\u001b[0;34m(\u001b[0m\u001b[0mt\u001b[0m\u001b[0;34m,\u001b[0m \u001b[0mr\u001b[0m\u001b[0;34m,\u001b[0m \u001b[0mv\u001b[0m\u001b[0;34m,\u001b[0m \u001b[0mobject_num\u001b[0m\u001b[0;34m,\u001b[0m \u001b[0mr0\u001b[0m\u001b[0;34m,\u001b[0m \u001b[0mv0\u001b[0m\u001b[0;34m)\u001b[0m\u001b[0;34m:\u001b[0m\u001b[0;34m\u001b[0m\u001b[0;34m\u001b[0m\u001b[0m\n\u001b[1;32m      6\u001b[0m   \u001b[0;32mif\u001b[0m \u001b[0mobject_num\u001b[0m \u001b[0;34m==\u001b[0m \u001b[0;36m1\u001b[0m\u001b[0;34m:\u001b[0m\u001b[0;34m\u001b[0m\u001b[0;34m\u001b[0m\u001b[0m\n\u001b[0;32m----> 7\u001b[0;31m     \u001b[0;32mreturn\u001b[0m \u001b[0mforce\u001b[0m\u001b[0;34m(\u001b[0m\u001b[0mobject_num\u001b[0m\u001b[0;34m,\u001b[0m \u001b[0mr0\u001b[0m\u001b[0;34m)\u001b[0m\u001b[0;34m/\u001b[0m\u001b[0mm1\u001b[0m\u001b[0;34m\u001b[0m\u001b[0;34m\u001b[0m\u001b[0m\n\u001b[0m\u001b[1;32m      8\u001b[0m \u001b[0;34m\u001b[0m\u001b[0m\n\u001b[1;32m      9\u001b[0m   \u001b[0;32melif\u001b[0m \u001b[0mobject_num\u001b[0m \u001b[0;34m==\u001b[0m \u001b[0;36m2\u001b[0m\u001b[0;34m:\u001b[0m\u001b[0;34m\u001b[0m\u001b[0;34m\u001b[0m\u001b[0m\n",
            "\u001b[0;32m<ipython-input-225-790bb20ec5c1>\u001b[0m in \u001b[0;36mforce\u001b[0;34m(object_num, r0)\u001b[0m\n\u001b[1;32m     60\u001b[0m   \u001b[0;31m# 타겟 물체를 각각 1,2,3의 정수로 object_num인자에 받고, 초기위치를 직교좌표계로 r_0에 3x3개 좌표로받음\u001b[0m\u001b[0;34m\u001b[0m\u001b[0;34m\u001b[0m\u001b[0;34m\u001b[0m\u001b[0m\n\u001b[1;32m     61\u001b[0m   \u001b[0;32mif\u001b[0m \u001b[0mobject_num\u001b[0m \u001b[0;34m==\u001b[0m \u001b[0;36m1\u001b[0m\u001b[0;34m:\u001b[0m\u001b[0;34m\u001b[0m\u001b[0;34m\u001b[0m\u001b[0m\n\u001b[0;32m---> 62\u001b[0;31m     \u001b[0;32mreturn\u001b[0m \u001b[0mforce12\u001b[0m\u001b[0;34m(\u001b[0m\u001b[0mr0\u001b[0m\u001b[0;34m[\u001b[0m\u001b[0;36m0\u001b[0m\u001b[0;34m]\u001b[0m\u001b[0;34m,\u001b[0m \u001b[0mr0\u001b[0m\u001b[0;34m[\u001b[0m\u001b[0;36m1\u001b[0m\u001b[0;34m]\u001b[0m\u001b[0;34m)\u001b[0m \u001b[0;34m+\u001b[0m \u001b[0mforce13\u001b[0m\u001b[0;34m(\u001b[0m\u001b[0mr0\u001b[0m\u001b[0;34m[\u001b[0m\u001b[0;36m0\u001b[0m\u001b[0;34m]\u001b[0m\u001b[0;34m,\u001b[0m \u001b[0mr0\u001b[0m\u001b[0;34m[\u001b[0m\u001b[0;36m2\u001b[0m\u001b[0;34m]\u001b[0m\u001b[0;34m)\u001b[0m\u001b[0;34m\u001b[0m\u001b[0;34m\u001b[0m\u001b[0m\n\u001b[0m\u001b[1;32m     63\u001b[0m \u001b[0;34m\u001b[0m\u001b[0m\n\u001b[1;32m     64\u001b[0m   \u001b[0;32melif\u001b[0m \u001b[0mobject_num\u001b[0m \u001b[0;34m==\u001b[0m \u001b[0;36m2\u001b[0m\u001b[0;34m:\u001b[0m\u001b[0;34m\u001b[0m\u001b[0;34m\u001b[0m\u001b[0m\n",
            "\u001b[0;32m<ipython-input-225-790bb20ec5c1>\u001b[0m in \u001b[0;36mforce12\u001b[0;34m(r1, r2)\u001b[0m\n\u001b[1;32m      5\u001b[0m   \u001b[0mr12\u001b[0m \u001b[0;34m=\u001b[0m \u001b[0mnp\u001b[0m\u001b[0;34m.\u001b[0m\u001b[0mzeros\u001b[0m\u001b[0;34m(\u001b[0m\u001b[0;36m3\u001b[0m\u001b[0;34m)\u001b[0m\u001b[0;34m\u001b[0m\u001b[0;34m\u001b[0m\u001b[0m\n\u001b[1;32m      6\u001b[0m \u001b[0;34m\u001b[0m\u001b[0m\n\u001b[0;32m----> 7\u001b[0;31m   \u001b[0mr12\u001b[0m\u001b[0;34m[\u001b[0m\u001b[0;36m0\u001b[0m\u001b[0;34m]\u001b[0m \u001b[0;34m=\u001b[0m \u001b[0mr1\u001b[0m\u001b[0;34m[\u001b[0m\u001b[0;36m0\u001b[0m\u001b[0;34m]\u001b[0m \u001b[0;34m-\u001b[0m \u001b[0mr2\u001b[0m\u001b[0;34m[\u001b[0m\u001b[0;36m0\u001b[0m\u001b[0;34m]\u001b[0m\u001b[0;34m\u001b[0m\u001b[0;34m\u001b[0m\u001b[0m\n\u001b[0m\u001b[1;32m      8\u001b[0m   \u001b[0mr12\u001b[0m\u001b[0;34m[\u001b[0m\u001b[0;36m1\u001b[0m\u001b[0;34m]\u001b[0m \u001b[0;34m=\u001b[0m \u001b[0mr1\u001b[0m\u001b[0;34m[\u001b[0m\u001b[0;36m1\u001b[0m\u001b[0;34m]\u001b[0m \u001b[0;34m-\u001b[0m \u001b[0mr2\u001b[0m\u001b[0;34m[\u001b[0m\u001b[0;36m1\u001b[0m\u001b[0;34m]\u001b[0m\u001b[0;34m\u001b[0m\u001b[0;34m\u001b[0m\u001b[0m\n\u001b[1;32m      9\u001b[0m   \u001b[0mr12\u001b[0m\u001b[0;34m[\u001b[0m\u001b[0;36m2\u001b[0m\u001b[0;34m]\u001b[0m \u001b[0;34m=\u001b[0m \u001b[0mr1\u001b[0m\u001b[0;34m[\u001b[0m\u001b[0;36m2\u001b[0m\u001b[0;34m]\u001b[0m \u001b[0;34m-\u001b[0m \u001b[0mr1\u001b[0m\u001b[0;34m[\u001b[0m\u001b[0;36m2\u001b[0m\u001b[0;34m]\u001b[0m\u001b[0;34m\u001b[0m\u001b[0;34m\u001b[0m\u001b[0m\n",
            "\u001b[0;31mValueError\u001b[0m: setting an array element with a sequence."
          ]
        }
      ]
    },
    {
      "cell_type": "code",
      "metadata": {
        "id": "BFl63-oB9iRs",
        "colab_type": "code",
        "colab": {}
      },
      "source": [
        ""
      ],
      "execution_count": null,
      "outputs": []
    }
  ]
}