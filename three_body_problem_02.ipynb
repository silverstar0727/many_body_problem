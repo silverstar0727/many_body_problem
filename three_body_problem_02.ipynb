{
  "nbformat": 4,
  "nbformat_minor": 0,
  "metadata": {
    "colab": {
      "name": "three_body_problem_01.ipynb",
      "provenance": [],
      "collapsed_sections": [],
      "authorship_tag": "ABX9TyPHwecve6Zv9BWhkIoHhvU6",
      "include_colab_link": true
    },
    "kernelspec": {
      "name": "python3",
      "display_name": "Python 3"
    }
  },
  "cells": [
    {
      "cell_type": "markdown",
      "metadata": {
        "id": "view-in-github",
        "colab_type": "text"
      },
      "source": [
        "<a href=\"https://colab.research.google.com/github/silverstar0727/many_body_problem/blob/master/three_body_problem_02.ipynb\" target=\"_parent\"><img src=\"https://colab.research.google.com/assets/colab-badge.svg\" alt=\"Open In Colab\"/></a>"
      ]
    },
    {
      "cell_type": "code",
      "metadata": {
        "id": "2QXyt6bzBx0_",
        "colab_type": "code",
        "colab": {}
      },
      "source": [
        "import time\n",
        "import pandas as pd"
      ],
      "execution_count": 0,
      "outputs": []
    },
    {
      "cell_type": "code",
      "metadata": {
        "id": "iN4j-qIxB2ol",
        "colab_type": "code",
        "colab": {}
      },
      "source": [
        "class particle:\n",
        "  def __init__(self, mass, position, velocity, name):\n",
        "    self.mass = mass\n",
        "    self.position = position\n",
        "    self.name = name\n",
        "    self.velocity = velocity\n",
        "\n",
        "  def run(self, objs):\n",
        "    t = 60 # 시간간격\n",
        "    G = 6.6726 * (10**(-11)) # G는 중력상수 [Nm^2 /kg^2]\n",
        "\n",
        "    r = []\n",
        "    dis = []\n",
        "    force = []\n",
        "    acc = []\n",
        "    for obj in objs:\n",
        "      r_x = self.position[0] - obj.Pos()[0]\n",
        "      r_y = self.position[1] - obj.Pos()[1]\n",
        "      r_z = self.position[2] - obj.Pos()[2]\n",
        "\n",
        "      r.append([r_x, r_y, r_z])\n",
        "\n",
        "      dis.append((r[0]**2 + r[1]**2) ** (1/2))\n",
        "\n",
        "      #힘의크기 force_ [N]\n",
        "      force_ = (self.mass * obj.Mass() * G) / (dis ** 2)\n",
        "    \n",
        "      # 단위 벡터 r_\n",
        "      r_ = list(map(lambda x: x/dis, r))\n",
        "\n",
        "      # 물체하나가 작용하는 힘 force [N]\n",
        "      force.append(list(map(lambda x: x * force_, r_)))\n",
        "\n",
        "      acc.append(list(map(lambda x: x * force_, r_)))\n",
        "\n",
        "    return acc\n",
        "      \n",
        "  def Mass(self):\n",
        "    return self.mass\n",
        "  \n",
        "  def Pos(self):\n",
        "    return self.position\n",
        "\n",
        "  def Vel(self):\n",
        "    return self.velocity\n",
        "\n",
        "  def Name(self):\n",
        "    return self.name\n",
        "\n",
        "  def change_pos(self, acc_):\n",
        "    # 속도 [m/s]\n",
        "    self.velocity[0] = acc_[0] * t + self.velocity[0]\n",
        "    self.velocity[1] = acc_[1] * t + self.velocity[1]\n",
        "    self.velocity[2] = acc_[2] * t + self.velocity[2]\n",
        "    # 위치 [m]\n",
        "    self.position[0] = self.velocity[0] * t + self.position[0]\n",
        "    self.position[1] = self.velocity[1] * t + self.position[1]\n",
        "    self.position[2] = self.velocity[2] * t + self.position[2]\n",
        "\n",
        "    return [self.position[0], self.position[1], self.position[2]] # 3차원 위치 반환"
      ],
      "execution_count": 0,
      "outputs": []
    },
    {
      "cell_type": "code",
      "metadata": {
        "id": "BbqiLwszcPy0",
        "colab_type": "code",
        "colab": {}
      },
      "source": [
        "class simulation:\n",
        "  def __init__(self):\n",
        "    self.particles = []\n",
        "\n",
        "  def append(self, obj):\n",
        "    self.particles.append(obj) # 물체 추가\n",
        "\n",
        "  def run(self):\n",
        "    self.tra = [[] for i in range(len(self.particles))] # 궤도 리스트 생성\n",
        "\n",
        "    for i in range(len(self.particles)):\n",
        "      acc_list = [] # 가속도를 리스트로 저장 \n",
        "      \n",
        "      self.tra[i].append(self.particles[i].Pos()) # 궤도 저장\n",
        "      result = self.particles[i].run(self.particles) # 시행\n",
        "      acc.append(result) # 가속도 추가\n",
        "\n",
        "    for i in range(len(self.particles)):\n",
        "      self.particles[i].change_pos(acc[i]) # 가속도를 적용하여 위치를 변경"
      ],
      "execution_count": 0,
      "outputs": []
    },
    {
      "cell_type": "code",
      "metadata": {
        "id": "xgJANgw4EFfK",
        "colab_type": "code",
        "outputId": "94729b27-1c0e-46e6-bb50-72f9246438c3",
        "colab": {
          "base_uri": "https://localhost:8080/",
          "height": 358
        }
      },
      "source": [
        "# 질량 단위 [kg], 위치 단위 [m], 속도 단위 [m/s]\n",
        "Earth = particle(mass = 5.972 * (10**24), position = [149597870700, 0, 0], velocity = [0, 0, 0], name = 'Earth')\n",
        "Sun = particle(mass = 1.989 * (10**30), position = [0, 0, 0], velocity = [0, 0, 0], name = 'Sun') \n",
        "Moon = particle(mass = 7.347673 * (10 ** 22), position = [384400, 0, 0], velocity = [0, 0, 0], name = 'Moon')\n",
        "\n",
        "Sim = simulation() # 인스턴스 생성\n",
        "Sim.append(Earth)\n",
        "Sim.append(Sun)\n",
        "Sim.append(Moon)\n",
        "\n",
        "for i in range(60*24):\n",
        "  data = Sim.run()"
      ],
      "execution_count": 0,
      "outputs": [
        {
          "output_type": "error",
          "ename": "TypeError",
          "evalue": "ignored",
          "traceback": [
            "\u001b[0;31m---------------------------------------------------------------------------\u001b[0m",
            "\u001b[0;31mTypeError\u001b[0m                                 Traceback (most recent call last)",
            "\u001b[0;32m<ipython-input-13-7f1d4661d20b>\u001b[0m in \u001b[0;36m<module>\u001b[0;34m()\u001b[0m\n\u001b[1;32m     10\u001b[0m \u001b[0;34m\u001b[0m\u001b[0m\n\u001b[1;32m     11\u001b[0m \u001b[0;32mfor\u001b[0m \u001b[0mi\u001b[0m \u001b[0;32min\u001b[0m \u001b[0mrange\u001b[0m\u001b[0;34m(\u001b[0m\u001b[0;36m60\u001b[0m\u001b[0;34m*\u001b[0m\u001b[0;36m24\u001b[0m\u001b[0;34m)\u001b[0m\u001b[0;34m:\u001b[0m\u001b[0;34m\u001b[0m\u001b[0;34m\u001b[0m\u001b[0m\n\u001b[0;32m---> 12\u001b[0;31m   \u001b[0mdata\u001b[0m \u001b[0;34m=\u001b[0m \u001b[0mSim\u001b[0m\u001b[0;34m.\u001b[0m\u001b[0mrun\u001b[0m\u001b[0;34m(\u001b[0m\u001b[0;34m)\u001b[0m\u001b[0;34m\u001b[0m\u001b[0;34m\u001b[0m\u001b[0m\n\u001b[0m",
            "\u001b[0;32m<ipython-input-12-409181a53a78>\u001b[0m in \u001b[0;36mrun\u001b[0;34m(self)\u001b[0m\n\u001b[1;32m     13\u001b[0m \u001b[0;34m\u001b[0m\u001b[0m\n\u001b[1;32m     14\u001b[0m       \u001b[0mself\u001b[0m\u001b[0;34m.\u001b[0m\u001b[0mtra\u001b[0m\u001b[0;34m[\u001b[0m\u001b[0mi\u001b[0m\u001b[0;34m]\u001b[0m\u001b[0;34m.\u001b[0m\u001b[0mappend\u001b[0m\u001b[0;34m(\u001b[0m\u001b[0mself\u001b[0m\u001b[0;34m.\u001b[0m\u001b[0mparticles\u001b[0m\u001b[0;34m[\u001b[0m\u001b[0mi\u001b[0m\u001b[0;34m]\u001b[0m\u001b[0;34m.\u001b[0m\u001b[0mPos\u001b[0m\u001b[0;34m(\u001b[0m\u001b[0;34m)\u001b[0m\u001b[0;34m)\u001b[0m \u001b[0;31m# 궤도 저장\u001b[0m\u001b[0;34m\u001b[0m\u001b[0;34m\u001b[0m\u001b[0m\n\u001b[0;32m---> 15\u001b[0;31m       \u001b[0mresult\u001b[0m \u001b[0;34m=\u001b[0m \u001b[0mself\u001b[0m\u001b[0;34m.\u001b[0m\u001b[0mparticles\u001b[0m\u001b[0;34m[\u001b[0m\u001b[0mi\u001b[0m\u001b[0;34m]\u001b[0m\u001b[0;34m.\u001b[0m\u001b[0mrun\u001b[0m\u001b[0;34m(\u001b[0m\u001b[0mself\u001b[0m\u001b[0;34m.\u001b[0m\u001b[0mparticles\u001b[0m\u001b[0;34m)\u001b[0m \u001b[0;31m# 시행\u001b[0m\u001b[0;34m\u001b[0m\u001b[0;34m\u001b[0m\u001b[0m\n\u001b[0m\u001b[1;32m     16\u001b[0m       \u001b[0macc\u001b[0m\u001b[0;34m.\u001b[0m\u001b[0mappend\u001b[0m\u001b[0;34m(\u001b[0m\u001b[0mresult\u001b[0m\u001b[0;34m)\u001b[0m \u001b[0;31m# 가속도 추가\u001b[0m\u001b[0;34m\u001b[0m\u001b[0;34m\u001b[0m\u001b[0m\n\u001b[1;32m     17\u001b[0m \u001b[0;34m\u001b[0m\u001b[0m\n",
            "\u001b[0;32m<ipython-input-4-d0b823d12243>\u001b[0m in \u001b[0;36mrun\u001b[0;34m(self, objs)\u001b[0m\n\u001b[1;32m     21\u001b[0m       \u001b[0mr\u001b[0m\u001b[0;34m.\u001b[0m\u001b[0mappend\u001b[0m\u001b[0;34m(\u001b[0m\u001b[0;34m[\u001b[0m\u001b[0mr_x\u001b[0m\u001b[0;34m,\u001b[0m \u001b[0mr_y\u001b[0m\u001b[0;34m,\u001b[0m \u001b[0mr_z\u001b[0m\u001b[0;34m]\u001b[0m\u001b[0;34m)\u001b[0m\u001b[0;34m\u001b[0m\u001b[0;34m\u001b[0m\u001b[0m\n\u001b[1;32m     22\u001b[0m \u001b[0;34m\u001b[0m\u001b[0m\n\u001b[0;32m---> 23\u001b[0;31m       \u001b[0mdis\u001b[0m\u001b[0;34m.\u001b[0m\u001b[0mappend\u001b[0m\u001b[0;34m(\u001b[0m\u001b[0;34m(\u001b[0m\u001b[0mr\u001b[0m\u001b[0;34m[\u001b[0m\u001b[0;36m0\u001b[0m\u001b[0;34m]\u001b[0m\u001b[0;34m**\u001b[0m\u001b[0;36m2\u001b[0m \u001b[0;34m+\u001b[0m \u001b[0mr\u001b[0m\u001b[0;34m[\u001b[0m\u001b[0;36m1\u001b[0m\u001b[0;34m]\u001b[0m\u001b[0;34m**\u001b[0m\u001b[0;36m2\u001b[0m\u001b[0;34m)\u001b[0m \u001b[0;34m**\u001b[0m \u001b[0;34m(\u001b[0m\u001b[0;36m1\u001b[0m\u001b[0;34m/\u001b[0m\u001b[0;36m2\u001b[0m\u001b[0;34m)\u001b[0m\u001b[0;34m)\u001b[0m\u001b[0;34m\u001b[0m\u001b[0;34m\u001b[0m\u001b[0m\n\u001b[0m\u001b[1;32m     24\u001b[0m \u001b[0;34m\u001b[0m\u001b[0m\n\u001b[1;32m     25\u001b[0m       \u001b[0;31m#힘의크기 force_ [N]\u001b[0m\u001b[0;34m\u001b[0m\u001b[0;34m\u001b[0m\u001b[0;34m\u001b[0m\u001b[0m\n",
            "\u001b[0;31mTypeError\u001b[0m: unsupported operand type(s) for ** or pow(): 'list' and 'int'"
          ]
        }
      ]
    },
    {
      "cell_type": "code",
      "metadata": {
        "id": "vjC6VcOLDKWT",
        "colab_type": "code",
        "colab": {}
      },
      "source": [
        ""
      ],
      "execution_count": 0,
      "outputs": []
    },
    {
      "cell_type": "code",
      "metadata": {
        "id": "521OUl3-GGrj",
        "colab_type": "code",
        "colab": {}
      },
      "source": [
        ""
      ],
      "execution_count": 0,
      "outputs": []
    }
  ]
}