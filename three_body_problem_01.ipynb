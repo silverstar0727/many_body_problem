{
  "nbformat": 4,
  "nbformat_minor": 0,
  "metadata": {
    "colab": {
      "name": "three_body_problem_01.ipynb",
      "provenance": [],
      "collapsed_sections": [],
      "authorship_tag": "ABX9TyNwRNLzAUiVJhZMVGuK4e61",
      "include_colab_link": true
    },
    "kernelspec": {
      "name": "python3",
      "display_name": "Python 3"
    }
  },
  "cells": [
    {
      "cell_type": "markdown",
      "metadata": {
        "id": "view-in-github",
        "colab_type": "text"
      },
      "source": [
        "<a href=\"https://colab.research.google.com/github/silverstar0727/many_body_problem/blob/master/three_body_problem_01.ipynb\" target=\"_parent\"><img src=\"https://colab.research.google.com/assets/colab-badge.svg\" alt=\"Open In Colab\"/></a>"
      ]
    },
    {
      "cell_type": "code",
      "metadata": {
        "id": "2QXyt6bzBx0_",
        "colab_type": "code",
        "colab": {}
      },
      "source": [
        "import time\n",
        "import pandas as pd"
      ],
      "execution_count": 0,
      "outputs": []
    },
    {
      "cell_type": "code",
      "metadata": {
        "id": "iN4j-qIxB2ol",
        "colab_type": "code",
        "colab": {}
      },
      "source": [
        "class particle:\n",
        "  def __init__(self, mass, position, velocity, name):\n",
        "    self.mass = mass\n",
        "    self.position = position\n",
        "    self.name = name\n",
        "    self.velocity = velocity\n",
        "\n",
        "  def run(self, objs):\n",
        "    t = 60 # 시간간격\n",
        "    G = 6.6726 * (10**(-11)) # G는 중력상수 [Nm^2 /kg^2]\n",
        "\n",
        "    r = []\n",
        "    dis = []\n",
        "    force = []\n",
        "    for obj in objs:\n",
        "      r_x = self.position[0] - obj.Pos()[0]\n",
        "      r_y = self.position[1] - obj.Pos()[1]\n",
        "      r_z = self.position[2] - obj.Pos()[2]\n",
        "\n",
        "      r.append([r_x, r_y, r_z])\n",
        "\n",
        "      dis.append((r[0]**2 + r[1]**2) ** (1/2))\n",
        "\n",
        "      #힘의크기 force_ [N]\n",
        "      force_ = (self.mass * obj.Mass() * G) / (dis ** 2)\n",
        "    \n",
        "      # 단위 벡터 r_\n",
        "      r_ = list(map(lambda x: x/dis, r))\n",
        "\n",
        "      # 물체하나가 작용하는 힘 force [N]\n",
        "      force.append(list(map(lambda x: x * force_, r_)))\n",
        "\n",
        "      acc.append(list(map(lambda x: x * force_, r_)))\n",
        "\n",
        "      \n",
        "  def Mass(self):\n",
        "    return self.Mass\n",
        "  \n",
        "  def Pos(self):\n",
        "    return self.position\n",
        "\n",
        "  def Vel(self):\n",
        "    return self.velocity\n",
        "\n",
        "  def Name(self):\n",
        "    return self.name"
      ],
      "execution_count": 0,
      "outputs": []
    }
  ]
}