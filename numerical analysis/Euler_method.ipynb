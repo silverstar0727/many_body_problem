{
  "nbformat": 4,
  "nbformat_minor": 0,
  "metadata": {
    "colab": {
      "name": "Euler_method.ipynb",
      "provenance": [],
      "collapsed_sections": [],
      "authorship_tag": "ABX9TyMc16EbzKn4vkzPybyEVRUd",
      "include_colab_link": true
    },
    "kernelspec": {
      "name": "python3",
      "display_name": "Python 3"
    }
  },
  "cells": [
    {
      "cell_type": "markdown",
      "metadata": {
        "id": "view-in-github",
        "colab_type": "text"
      },
      "source": [
        "<a href=\"https://colab.research.google.com/github/silverstar0727/n_body_problem/blob/master/theory/Euler_method.ipynb\" target=\"_parent\"><img src=\"https://colab.research.google.com/assets/colab-badge.svg\" alt=\"Open In Colab\"/></a>"
      ]
    },
    {
      "cell_type": "markdown",
      "metadata": {
        "id": "NZgaKnLJX-nh",
        "colab_type": "text"
      },
      "source": [
        "### 1계 상미분 방정식의 수치해법\n",
        "* 목표\n",
        " \n",
        " Taylor 급수를 적용하여 h만큼 떨어진 두 점에서 1계 \n",
        "상미분방정식의 근사해를 유도하자\n",
        "\n",
        "* ODE(Ordinary Differential Equation, 상미분 방정식)\n",
        " \n",
        " 상미분 방정식은형태를 $F(x,y,y^\\prime) = 0$과 같은 implicit form으로 나타내거나 $y^\\prime = f(x,y)$와 같은 explicit form으로 나타내는 것이 일반적이다.\n",
        "\n",
        "* Initial value problem(초기값 문제)\n",
        " \n",
        " $$y(x_0) = y_0$$이 주어진 초기값 문제에 대해서 $x_0$와 $y_0$는 주어진 값이고, $x_0$를 포함하는 열린구간 $a<x<b$에서 유일해를 갖는다고 가정하면$$x_{n+1} = x_n + nh$$이고 h는 step size로 고정된 값으로 선택된다. \n",
        " \n",
        "* Euler method\n",
        " \n",
        " step size인 h는 매우 작은 값으로 Taylor 공식에 의해 $$y(x+h) = y(x) + hf(x+y)$$로 근사가 가능 하고 이를 Euler 방법이라고 한다.\n",
        "\n",
        "  * Error of Euler method\n",
        "\n",
        " 위 Taylor 공식을 뒤 차수까지 전개하였을 때 $y(x+h) = y(x) + hy\\prime(x) + {1\\over2}h^2y''(\\xi)$와 같다. 따라서 각 단계의 오차(trucation error)가 $h^2$에 비레한다는 것을 알 수 있고 이는 $O(h^2)$로 표기한다. (여기서 O는 Order) \n",
        "\n",
        " 전체오차(global error)는 $h^2({1\\over h}) = h$이다.\n",
        "\n",
        "* 개선된 Euler 방법\n",
        "\n",
        " 개선된 Euler방법의 각 단계에서 먼저 보조값(auxiliary value)인 예측자(predictor)$$y^\\ast_{n+1} = y_n + hf(x_n, y_n)$$를 계산한 후 새로운 수정자(corrector) $$y_{n+1} = y_n + {1\\over2}h[f(x_n, y_n) + f(x_{n+1}, y^\\ast_{n+1})$$를 계산한다. 따라서 이를 풀어서 쓰면 다음과 같다. $$y_{n+1} = y_n + {1\\over2}h[f(x_n, y_n) + f(x_{n+1}, (y_n + hf(x_n, y_n))]$$\n",
        "\n",
        "  * 개선된 Eauler방법의 오차\n",
        "\n",
        "   국부오차(local error)는 $h^3$차수이고 전체오차(global error)는 $h^2$이므로, 개선된 Euler 방법은 scond order method에 해당한다."
      ]
    },
    {
      "cell_type": "markdown",
      "metadata": {
        "id": "9nW9QicT-Hi1",
        "colab_type": "text"
      },
      "source": [
        "위 개선된 Euler방법(Heum방법)을 $f(x,y) = x+y$일 때, python코드로 표현하면 다음과 같다."
      ]
    },
    {
      "cell_type": "code",
      "metadata": {
        "id": "mBynvermDcI-",
        "colab_type": "code",
        "colab": {}
      },
      "source": [
        "def f(x,y):\n",
        "  return x + y\n",
        "\n",
        "def Euler(x_0, y_0, h, n):\n",
        "  x = x_0\n",
        "  y = y_0\n",
        "  \n",
        "  for i in range(n-1):\n",
        "    x_for = x + h\n",
        "    k_1 = h*f(x, y)\n",
        "    k_2 = h*f(x_for, y + k_1)\n",
        "\n",
        "    x = x + h\n",
        "    y = y + (1/2)*(k_1 + k_2)\n",
        "\n",
        "    print(i+1,'x: %.4f, y: %.4f' %(x, y))"
      ],
      "execution_count": 39,
      "outputs": []
    },
    {
      "cell_type": "code",
      "metadata": {
        "id": "Rk1mCz0jTUvQ",
        "colab_type": "code",
        "colab": {
          "base_uri": "https://localhost:8080/",
          "height": 107
        },
        "outputId": "b1c949a9-3580-4686-b9f2-f8c6cb2d142f"
      },
      "source": [
        "Euler(0, 0, 0.2, 6)"
      ],
      "execution_count": 40,
      "outputs": [
        {
          "output_type": "stream",
          "text": [
            "1 x: 0.2000, y: 0.0200\n",
            "2 x: 0.4000, y: 0.0884\n",
            "3 x: 0.6000, y: 0.2158\n",
            "4 x: 0.8000, y: 0.4153\n",
            "5 x: 1.0000, y: 0.7027\n"
          ],
          "name": "stdout"
        }
      ]
    },
    {
      "cell_type": "code",
      "metadata": {
        "id": "DK0TQ6GPQ3nD",
        "colab_type": "code",
        "colab": {}
      },
      "source": [
        ""
      ],
      "execution_count": null,
      "outputs": []
    }
  ]
}
