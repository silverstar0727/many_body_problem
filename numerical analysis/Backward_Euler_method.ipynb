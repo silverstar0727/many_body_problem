{
  "nbformat": 4,
  "nbformat_minor": 0,
  "metadata": {
    "colab": {
      "name": "Backward_Euler_method.ipynb",
      "provenance": [],
      "authorship_tag": "ABX9TyO4plJZSw4ncteuhguf4fgu",
      "include_colab_link": true
    },
    "kernelspec": {
      "name": "python3",
      "display_name": "Python 3"
    }
  },
  "cells": [
    {
      "cell_type": "markdown",
      "metadata": {
        "id": "view-in-github",
        "colab_type": "text"
      },
      "source": [
        "<a href=\"https://colab.research.google.com/github/silverstar0727/n_body_problem/blob/master/numerical%20analysis/Backward_Euler_method.ipynb\" target=\"_parent\"><img src=\"https://colab.research.google.com/assets/colab-badge.svg\" alt=\"Open In Colab\"/></a>"
      ]
    },
    {
      "cell_type": "markdown",
      "metadata": {
        "id": "6Jz8rBu8oZDi",
        "colab_type": "text"
      },
      "source": [
        "### Backward Euler method\n",
        "\n",
        "후진 Euler 공식은 $$y_{n + 1} = y_n + hf(x_{n+1}, y_{n+1})$$과 같다. 이 공식을 고찰하면 기존에 알고 있던 $y_n$으로부터 $y_{n+1}$을 구하는 방법 이므로, 기존의 Euler방법과 대조되며, 이를 음함수법(implicit method)라고 정의 된다. \n",
        "\n",
        "해당 방법은 경직(stiff)의 경우에 굉장히 유용한데, 그 예는 진동, 전기회로, 화학반응 등의 연구에서 자주 발생한다. "
      ]
    },
    {
      "cell_type": "markdown",
      "metadata": {
        "id": "E12LZYApEvhN",
        "colab_type": "text"
      },
      "source": [
        "> 예) $y' = f(x,y) = -20hy + 20x^2 + 2x$이고 $y(0) = 1$에서 $y = e^{-20x} + x^2$임을 확인하라.\n",
        "\n",
        "후진 Euler 공식으로부터$$y_{n + 1} = y_n + hf(x_{n+1}, y+{n +1}) = y_n + h(-20y_{n+1} + 20x^2_{n+1} + 2x_{n + 1})$$이고, $x_{n + 1} = x_n + h$이므로 $-20y_{n+1}$을 이항하고 나누면 $$y_{n+1} = {y_n + h[20(x_n + h)^2 + 2(x_n + h)] \\over 1+20h}$$이다. 이를 python 코드로 나타내면"
      ]
    },
    {
      "cell_type": "code",
      "metadata": {
        "id": "5OEcfJ-aEJI1",
        "colab_type": "code",
        "colab": {}
      },
      "source": [
        "def BEM(x_0, y_0, h, n):\n",
        "  x = x_0\n",
        "  y = y_0\n",
        "\n",
        "  result = [[0,0]]\n",
        "  for i in range(n-1):\n",
        "    y = (y + h*(20*(x + h)**2 + 2*(x + h))) / (1 + 20*h)\n",
        "    x = x + h\n",
        "    \n",
        "    result.append([x, y])\n",
        "\n",
        "  return result"
      ],
      "execution_count": null,
      "outputs": []
    },
    {
      "cell_type": "code",
      "metadata": {
        "id": "_gRwSG4-Fqc-",
        "colab_type": "code",
        "colab": {
          "base_uri": "https://localhost:8080/",
          "height": 197
        },
        "outputId": "523db75f-00d1-4c0d-9e9d-7e9fefc53cfb"
      },
      "source": [
        "BEM(0, 1, 0.2, 10)"
      ],
      "execution_count": null,
      "outputs": [
        {
          "output_type": "execute_result",
          "data": {
            "text/plain": [
              "[[0, 0],\n",
              " [0.2, 0.248],\n",
              " [0.4, 0.20960000000000006],\n",
              " [0.6000000000000001, 0.37792000000000014],\n",
              " [0.8, 0.6515840000000002],\n",
              " [1.0, 1.0103168],\n",
              " [1.2, 1.45006336],\n",
              " [1.4, 1.9700126719999997],\n",
              " [1.5999999999999999, 2.5700025343999995],\n",
              " [1.7999999999999998, 3.2500005068799993]]"
            ]
          },
          "metadata": {
            "tags": []
          },
          "execution_count": 56
        }
      ]
    },
    {
      "cell_type": "code",
      "metadata": {
        "id": "CIot3auOGFrY",
        "colab_type": "code",
        "colab": {}
      },
      "source": [
        ""
      ],
      "execution_count": null,
      "outputs": []
    }
  ]
}