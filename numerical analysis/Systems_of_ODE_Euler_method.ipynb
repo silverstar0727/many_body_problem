{
  "nbformat": 4,
  "nbformat_minor": 0,
  "metadata": {
    "colab": {
      "name": "Systems_of_ODE_Euler_method.ipynb",
      "provenance": [],
      "collapsed_sections": [],
      "authorship_tag": "ABX9TyM2bCSRhodoxs6wO1ZMd25I",
      "include_colab_link": true
    },
    "kernelspec": {
      "name": "python3",
      "display_name": "Python 3"
    }
  },
  "cells": [
    {
      "cell_type": "markdown",
      "metadata": {
        "id": "view-in-github",
        "colab_type": "text"
      },
      "source": [
        "<a href=\"https://colab.research.google.com/github/silverstar0727/n_body_problem/blob/master/numerical%20analysis/Systems_of_ODE_Euler_method.ipynb\" target=\"_parent\"><img src=\"https://colab.research.google.com/assets/colab-badge.svg\" alt=\"Open In Colab\"/></a>"
      ]
    },
    {
      "cell_type": "markdown",
      "metadata": {
        "id": "xwzlg-Pey0Wd",
        "colab_type": "text"
      },
      "source": [
        "n차 미분 방정식 -> n개의 연립 미분 방정식으로 변환하여 풀이\n",
        "\n",
        "ex) 번지점프를 하는 사람의 속도와 위치를 모두 알아야 하는 경우\n",
        "\n",
        "1계 연립 방정식에서의 inital condition problem의 성분들이 $$ y_1' = f_1(x, y_1, ... , y_m$$ $$y_2' = f_2(x, y_1, ... ,y_m)$$ $$ y_m' = f_m(x, y_1, ... ,y_m)$$에서 $m$계 상미분 방정식 $$y^{(m)} = f(x, y, y', y'', ... ,y^{(m - 1)}) $$\n",
        "과 초기 조건$$ y(x_0) = K_1, y'(x_0) = K_2 , ... ,y^{(m-1)} = K_m$$으로 이루어진 초기값 문제로 취급한다. 여기서 $y_1 = y, y_2 = y', ... $으로 치환하여 $$y'_m = f(x,y_1, ..., y_m)$$으로 환원되기 때문이다.\n",
        "\n",
        "* ### systems of ODE에 대한 Euler 방법\n",
        "\n",
        "Euler방법의 핵심은 scalar함수 $y, f$ 대신 벡터함수 $\\vec{y} , \\vec{f}$를 사용한는 것이다.\n",
        "\n",
        "> 예) second-order ODE (= 질량-용수철 시스템)\n",
        "\n",
        "Initial condition problem $$y'' + 2y' + 0.75y = 0, y(0) = 3, y'(0) = -2.5$$을 Euler 방법으로 풀면\n",
        "\n",
        "systems of ODE의 Euler방법을 이용한 해는 앞서 언급한 $$\\vec{y}_{n+1} = \\vec{y}_n + h \\vec{f}(x_n,\\vec {y}_n) $$\n",
        "이고 여기서 각 성분은 \n",
        "$$y_{1, n + 1} = y_{1, n} + hf_1 (x_n, y_{1, n}, y_{2, n})$$\n",
        "$$y_{2,n+1} = y_{2,n} + hf_2(x_n, y_{1, n}, y_{2, n})$$\n",
        "\n",
        "이므로 따라서, **$$ y_{1, n+1} = y_{1, n} + 0.2y_{2,n} = -2y_2 - 0.75y_1$$**의 형태가 된다."
      ]
    },
    {
      "cell_type": "code",
      "metadata": {
        "id": "lSTpZEDJyYl9",
        "colab_type": "code",
        "colab": {}
      },
      "source": [
        "def Euler(y1_0, y2_0, t_0, h, n):\n",
        "  y1_list = [y1_0]\n",
        "  y2_list = [y2_0]\n",
        "  t = t_0\n",
        "\n",
        "  for i in range(n-1):\n",
        "    y1_list.append(y1_list[-1] + h*y2_list[-1])\n",
        "    y2_list.append(y2_list[-1] + h*(-2*y2_list[-1] - 0.75*y1_list[-2]))\n",
        "\n",
        "    t += h\n",
        "\n",
        "  return y1_list, y2_list"
      ],
      "execution_count": null,
      "outputs": []
    },
    {
      "cell_type": "code",
      "metadata": {
        "id": "XMNcf_SFhLpF",
        "colab_type": "code",
        "colab": {
          "base_uri": "https://localhost:8080/",
          "height": 53
        },
        "outputId": "aec315f4-e9c6-4c05-e32a-16d38f257ca8"
      },
      "source": [
        "Euler(3, -2.5, 0, 0.2, 6)"
      ],
      "execution_count": null,
      "outputs": [
        {
          "output_type": "execute_result",
          "data": {
            "text/plain": [
              "([3, 2.5, 2.11, 1.801, 1.5522999999999998, 1.3490499999999999],\n",
              " [-2.5, -1.95, -1.545, -1.2435, -1.0162499999999999, -0.8425949999999999])"
            ]
          },
          "metadata": {
            "tags": []
          },
          "execution_count": 11
        }
      ]
    }
  ]
}