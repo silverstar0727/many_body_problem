{
  "nbformat": 4,
  "nbformat_minor": 0,
  "metadata": {
    "colab": {
      "name": "modeling.ipynb",
      "provenance": [],
      "collapsed_sections": [],
      "authorship_tag": "ABX9TyN0JMQ1yDTVNgQFl3IFWAwh",
      "include_colab_link": true
    },
    "kernelspec": {
      "name": "python3",
      "display_name": "Python 3"
    }
  },
  "cells": [
    {
      "cell_type": "markdown",
      "metadata": {
        "id": "view-in-github",
        "colab_type": "text"
      },
      "source": [
        "<a href=\"https://colab.research.google.com/github/silverstar0727/n_body_problem/blob/master/modeling.ipynb\" target=\"_parent\"><img src=\"https://colab.research.google.com/assets/colab-badge.svg\" alt=\"Open In Colab\"/></a>"
      ]
    },
    {
      "cell_type": "markdown",
      "metadata": {
        "id": "OSWNOJ1J9EVv",
        "colab_type": "text"
      },
      "source": [
        "20y 07m 18d"
      ]
    },
    {
      "cell_type": "code",
      "metadata": {
        "id": "-vtf9M5vJNtC",
        "colab_type": "code",
        "colab": {}
      },
      "source": [
        "import numpy as np\n",
        "import math"
      ],
      "execution_count": null,
      "outputs": []
    },
    {
      "cell_type": "code",
      "metadata": {
        "id": "y_byON7dU070",
        "colab_type": "code",
        "colab": {}
      },
      "source": [
        "# initial condition\n",
        "r_0 = [[0.1, 0.1, 0.1], [1.1, 0.1, 0.1], [5.5, 0.1, 0.1]] # [m]\n",
        "v_0 = [[-1, 0, 0], [0, 0, 0], [0, 0, 0]] # [m/s]\n",
        "\n",
        "m1 = 1.989e30 # [m]\n",
        "m2 = 5.972e24\n",
        "m3 = 1.898e27"
      ],
      "execution_count": null,
      "outputs": []
    },
    {
      "cell_type": "code",
      "metadata": {
        "id": "s4y33KbJU2mn",
        "colab_type": "code",
        "colab": {}
      },
      "source": [
        "# constant\n",
        "G = 6.6726e-11 # [Nm2/kg2]"
      ],
      "execution_count": null,
      "outputs": []
    },
    {
      "cell_type": "markdown",
      "metadata": {
        "id": "IzyJdkfRA0h-",
        "colab_type": "text"
      },
      "source": [
        "![](https://upload.wikimedia.org/wikipedia/commons/b/bc/Spherical_coordinate.gif)"
      ]
    },
    {
      "cell_type": "code",
      "metadata": {
        "id": "GcY9bIJGgBIg",
        "colab_type": "code",
        "colab": {}
      },
      "source": [
        "# 물체 1,2\n",
        "def force12(r1, r2): # 물체 1과 2의 위치를 r1, r2의 직교좌표계 리스트로 받음\n",
        "  F = np.zeros(3)\n",
        "  r12 = np.zeros(3)\n",
        "\n",
        "  r12[0] = r1[0] - r2[0]\n",
        "  r12[1] = r1[1] - r2[1]\n",
        "  r12[2] = r1[2] - r2[2]\n",
        "\n",
        "  Fmag = G*m1*m2 / (np.linalg.norm(r12)**2) # 힘의크기\n",
        "  theta = math.asin(r12[2] / np.linalg.norm(r12)) # theta\n",
        "  pi = math.atan(np.abs(r12[1]/np.abs(r12[0]))) # pi\n",
        "\n",
        "  # Force\n",
        "  F[0] = Fmag * np.cos(theta) * np.cos(pi) \n",
        "  F[1] = Fmag * np.cos(theta) * np.sin(pi)\n",
        "  F[2] = Fmag * np.sin(theta)\n",
        "\n",
        "  return F\n",
        "\n",
        "def force23(r2, r3):\n",
        "  F = np.zeros(3)\n",
        "  r23 = np.zeros(3)\n",
        "  \n",
        "  r23[0] = r2[0] - r3[0]\n",
        "  r23[1] = r2[1] - r3[1]\n",
        "  r23[2] = r2[2] - r3[2]\n",
        "\n",
        "  Fmag = G*m2*m3 / (np.linalg.norm(r23)**2)\n",
        "  theta = math.asin(r23[2] / np.linalg.norm(r23))\n",
        "  pi = math.atan(np.abs(r23[1]/np.abs(r23[0])))\n",
        "\n",
        "  F[0] = Fmag * np.cos(theta) * np.cos(pi)\n",
        "  F[1] = Fmag * np.cos(theta) * np.sin(pi)\n",
        "  F[2] = Fmag * np.sin(theta)\n",
        "\n",
        "  return F\n",
        "\n",
        "def force13(r1, r3):\n",
        "  F = np.zeros(3)\n",
        "  r13 = np.zeros(3)\n",
        "  \n",
        "  r13[0] = r1[0] - r3[0]\n",
        "  r13[1] = r1[1] - r3[1]\n",
        "  r13[2] = r1[2] - r3[2]\n",
        "\n",
        "  Fmag = G*m1*m3 / (np.linalg.norm(r13)**2)\n",
        "  theta = math.asin(r13[2] / np.linalg.norm(r13))\n",
        "  pi = math.atan(np.abs(r13[1]/np.abs(r13[0])))\n",
        "\n",
        "  F[0] = Fmag * np.cos(theta) * np.cos(pi)\n",
        "  F[1] = Fmag * np.cos(theta) * np.sin(pi)\n",
        "  F[2] = Fmag * np.sin(theta)\n",
        "\n",
        "  return F\n",
        "\n",
        "# 타겟 물체에 대한 net force\n",
        "def force(object_num, r0):\n",
        "  # 타겟 물체를 각각 1,2,3의 정수로 object_num인자에 받고, 초기위치를 직교좌표계로 r_0에 3x3개 좌표로받음\n",
        "  if object_num == 1:\n",
        "    return force12(r0[0], r0[1]) + force13(r0[0], r0[2])\n",
        "  \n",
        "  elif object_num == 2:\n",
        "    return -force12(r0[0], r0[1]) + force23(r0[1], r0[2])\n",
        "  \n",
        "  elif object_num == 3:\n",
        "    return -force13(r0[0],r0[2]) - force23(r0[1], r0[2])\n",
        "  \n",
        "  else:\n",
        "    print('object_num error')"
      ],
      "execution_count": null,
      "outputs": []
    },
    {
      "cell_type": "code",
      "metadata": {
        "id": "RKwHKQ3Agds8",
        "colab_type": "code",
        "colab": {}
      },
      "source": [
        "def dr_dt(t, r0, v0):\n",
        "  return v0\n",
        "\n",
        "def dv_dt(t, r0, v0, object_num):\n",
        "  if object_num == 1:\n",
        "    return force(object_num, r0)/m1\n",
        "  \n",
        "  elif object_num == 2:\n",
        "    return force(object_num, r0)/m2\n",
        "\n",
        "  elif object_num == 3:\n",
        "    return force(object_num, r0)/m3\n",
        "\n",
        "  else:\n",
        "    print('object_num error')\n",
        "\n",
        "def RK4(t, r0, v0, h , object_num): # r0, v0 = [[1의 r,v], [2의 r,v], [3의 r,v]]\n",
        "  r0 = np.array(r0)\n",
        "  v0 = np.array(v0)\n",
        "  print(list(r0))\n",
        "\n",
        "  a = h*np.array([dr_dt(t, r0, v0),\n",
        "                  dv_dt(t, list(r0), v0, object_num)])\n",
        "  b = h*np.array([dr_dt(t, 0, v0 + 0.5*h*a[1]),\n",
        "                  dv_dt(t + 0.5*h, r0 + 0.5*h*a[0], 0, object_num)])\n",
        "  c = h*np.array([dr_dt(t, 0, v0 + 0.5*h*b[1]),\n",
        "                  dv_dt(t + 0.5*h, r0 + 0.5*h*b[0], 0, object_num)])\n",
        "  d = h*np.array([dr_dt(t, 0, v0 + h*c[1]),\n",
        "                  dv_dt(t + h, r0 + h*c[0], 0, object_num)])\n",
        "  \n",
        "  # 좌표 세개를 업데이트\n",
        "  for i in range(3):\n",
        "    r[i] = r[i] + (1/6)*(a[0][i] + 2*b[0][i] + 2*c[0][i] + d[0][i])\n",
        "    v[i] = v[i] + (1/6)*(a[1][i] + 2*b[1][i] + 2*c[1][i] + d[1][i])\n",
        "  \n",
        "  return [r, v]"
      ],
      "execution_count": null,
      "outputs": []
    },
    {
      "cell_type": "code",
      "metadata": {
        "id": "XBuVhLR8er62",
        "colab_type": "code",
        "colab": {
          "base_uri": "https://localhost:8080/",
          "height": 388
        },
        "outputId": "895dc1fd-442f-434c-a187-a93779c88c8b"
      },
      "source": [
        "h = 0.1 # time step size\n",
        "t = 0  # time\n",
        "n = 10 # 반복 횟수\n",
        "\n",
        "r = [r_0] # 3중 리스트: 전체 시계열 - object n - 요소\n",
        "v = [v_0] # 3중 리스트: 전체 시계열 - object n - 요소\n",
        "for i in range(n):\n",
        "  # 시간 증가마다 새로운 요소 추가\n",
        "  r.append([[],[],[]]) \n",
        "  v.append([[],[],[]])\n",
        "\n",
        "  # 물체 3개에 대한 반복\n",
        "  for object_num in range(1,4):\n",
        "    if object_num == 1:\n",
        "      result = RK4(t, r[-2], v[-2], h, object_num)\n",
        "      r[-1][0] = result[0]\n",
        "      v[-1][0] = result[1]\n",
        "\n",
        "    elif object_num == 2:\n",
        "      result = RK4(t, r[-2], v[-2], h, object_num)\n",
        "      r[-1][1] = result[0]\n",
        "      v[-1][1] = result[1] \n",
        "      \n",
        "    else:\n",
        "      result = RK4(t, r[-2], v[-2], h, object_num)\n",
        "      r[-1][2] = result[1]\n",
        "      v[-1][2] = result[0]\n",
        "\n",
        "  t += h"
      ],
      "execution_count": null,
      "outputs": [
        {
          "output_type": "stream",
          "text": [
            "[array([0.1, 0.1, 0.1]), array([1.1, 0.1, 0.1]), array([5.5, 0.1, 0.1])]\n"
          ],
          "name": "stdout"
        },
        {
          "output_type": "error",
          "ename": "ValueError",
          "evalue": "ignored",
          "traceback": [
            "\u001b[0;31m---------------------------------------------------------------------------\u001b[0m",
            "\u001b[0;31mValueError\u001b[0m                                Traceback (most recent call last)",
            "\u001b[0;32m<ipython-input-159-47ae901a1d74>\u001b[0m in \u001b[0;36m<module>\u001b[0;34m()\u001b[0m\n\u001b[1;32m     13\u001b[0m   \u001b[0;32mfor\u001b[0m \u001b[0mobject_num\u001b[0m \u001b[0;32min\u001b[0m \u001b[0mrange\u001b[0m\u001b[0;34m(\u001b[0m\u001b[0;36m1\u001b[0m\u001b[0;34m,\u001b[0m\u001b[0;36m4\u001b[0m\u001b[0;34m)\u001b[0m\u001b[0;34m:\u001b[0m\u001b[0;34m\u001b[0m\u001b[0;34m\u001b[0m\u001b[0m\n\u001b[1;32m     14\u001b[0m     \u001b[0;32mif\u001b[0m \u001b[0mobject_num\u001b[0m \u001b[0;34m==\u001b[0m \u001b[0;36m1\u001b[0m\u001b[0;34m:\u001b[0m\u001b[0;34m\u001b[0m\u001b[0;34m\u001b[0m\u001b[0m\n\u001b[0;32m---> 15\u001b[0;31m       \u001b[0mresult\u001b[0m \u001b[0;34m=\u001b[0m \u001b[0mRK4\u001b[0m\u001b[0;34m(\u001b[0m\u001b[0mt\u001b[0m\u001b[0;34m,\u001b[0m \u001b[0mr\u001b[0m\u001b[0;34m[\u001b[0m\u001b[0;34m-\u001b[0m\u001b[0;36m2\u001b[0m\u001b[0;34m]\u001b[0m\u001b[0;34m,\u001b[0m \u001b[0mv\u001b[0m\u001b[0;34m[\u001b[0m\u001b[0;34m-\u001b[0m\u001b[0;36m2\u001b[0m\u001b[0;34m]\u001b[0m\u001b[0;34m,\u001b[0m \u001b[0mh\u001b[0m\u001b[0;34m,\u001b[0m \u001b[0mobject_num\u001b[0m\u001b[0;34m)\u001b[0m\u001b[0;34m\u001b[0m\u001b[0;34m\u001b[0m\u001b[0m\n\u001b[0m\u001b[1;32m     16\u001b[0m       \u001b[0mr\u001b[0m\u001b[0;34m[\u001b[0m\u001b[0;34m-\u001b[0m\u001b[0;36m1\u001b[0m\u001b[0;34m]\u001b[0m\u001b[0;34m[\u001b[0m\u001b[0;36m0\u001b[0m\u001b[0;34m]\u001b[0m \u001b[0;34m=\u001b[0m \u001b[0mresult\u001b[0m\u001b[0;34m[\u001b[0m\u001b[0;36m0\u001b[0m\u001b[0;34m]\u001b[0m\u001b[0;34m\u001b[0m\u001b[0;34m\u001b[0m\u001b[0m\n\u001b[1;32m     17\u001b[0m       \u001b[0mv\u001b[0m\u001b[0;34m[\u001b[0m\u001b[0;34m-\u001b[0m\u001b[0;36m1\u001b[0m\u001b[0;34m]\u001b[0m\u001b[0;34m[\u001b[0m\u001b[0;36m0\u001b[0m\u001b[0;34m]\u001b[0m \u001b[0;34m=\u001b[0m \u001b[0mresult\u001b[0m\u001b[0;34m[\u001b[0m\u001b[0;36m1\u001b[0m\u001b[0;34m]\u001b[0m\u001b[0;34m\u001b[0m\u001b[0;34m\u001b[0m\u001b[0m\n",
            "\u001b[0;32m<ipython-input-158-8efce9cb12ee>\u001b[0m in \u001b[0;36mRK4\u001b[0;34m(t, r0, v0, h, object_num)\u001b[0m\n\u001b[1;32m     21\u001b[0m \u001b[0;34m\u001b[0m\u001b[0m\n\u001b[1;32m     22\u001b[0m   a = h*np.array([dr_dt(t, r0, v0),\n\u001b[0;32m---> 23\u001b[0;31m                   dv_dt(t, list(r0), v0, object_num)])\n\u001b[0m\u001b[1;32m     24\u001b[0m   b = h*np.array([dr_dt(t, 0, v0 + 0.5*h*a[1]),\n\u001b[1;32m     25\u001b[0m                   dv_dt(t + 0.5*h, r0 + 0.5*h*a[0], 0, object_num)])\n",
            "\u001b[0;31mValueError\u001b[0m: could not broadcast input array from shape (3,3) into shape (3)"
          ]
        }
      ]
    },
    {
      "cell_type": "code",
      "metadata": {
        "id": "KM-MX77yS6Ax",
        "colab_type": "code",
        "colab": {}
      },
      "source": [
        ""
      ],
      "execution_count": null,
      "outputs": []
    },
    {
      "cell_type": "code",
      "metadata": {
        "id": "ejhaCRdtmQZU",
        "colab_type": "code",
        "colab": {}
      },
      "source": [
        "# 2계 ODE를 2개의 1계 ODE의 연립으로 변환\n",
        "def dr_dt(t, r, v, r0, v0):\n",
        "  return v\n",
        "\n",
        "def dv_dt(t, r, v, object_num, r0, v0):\n",
        "  if object_num == 1:\n",
        "    return force(object_num, r0)/m1\n",
        "  \n",
        "  elif object_num == 2:\n",
        "    return force(object_num, r0)/m2\n",
        "\n",
        "  elif object_num == 3:\n",
        "    return force(object_num, r0)/m3\n",
        "\n",
        "  else:\n",
        "    print('object_num error')\n",
        "\n",
        "\n",
        "# RK4 method를 이용한 numerical 풀이\n",
        "def RK4(t, r, v, h, object_num, r0, v0):\n",
        "  print('ㄱ', r)\n",
        "  # r = [rx,ry,rz], v = [vx,vy,vz]꼴의 리스트, r0, v0 = [[1의 r,v], [2의 r,v], [3의 r,v]]\n",
        "  # 3차원 좌표계 3개에 대한 반복\n",
        "  for i in range(3):\n",
        "    a = h*np.array([dr_dt(t, r[i], v[i], r0, v0), \n",
        "                    dv_dt(t, r[i], v[i], object_num, r0, v0)[i]])\n",
        "    b = h*np.array([dr_dt(t + 0.5*h, r[i], v[i] + 0.5*h*a[1], r0, v0), \n",
        "                    dv_dt(t + 0.5*h, r[i] + 0.5*h*a[0], v[i], object_num, r0, v0)[i]])\n",
        "    c = h*np.array([dr_dt(t + 0.5*h, r[i], v[i] + 0.5*h*b[1], r0, v0), \n",
        "                    dv_dt(t + 0.5*h, r[i] + 0.5*h*b[0], v[i], object_num, r0, v0)[i]])\n",
        "    d = h*np.array([dr_dt(t + h, r[i], v[i] + h*c[1], r0, v0), \n",
        "                    dv_dt(t + h, r[i] + h*c[0], v[i], object_num, r0, v0)[i]])\n",
        "\n",
        "    r[i] = r[i] + (1/6)*(a[0] + 2*b[0] + 2*c[0] + d[0])\n",
        "    v[i] = v[i] + (1/6)*(a[1] + 2*b[1] + 2*c[1] + d[1])\n",
        "    print('s', r)\n",
        "\n",
        "  return [r, v] # 2중 리스트: r의 3요소와 v의 3요소를 반환"
      ],
      "execution_count": null,
      "outputs": []
    },
    {
      "cell_type": "code",
      "metadata": {
        "id": "iN00nA4FolvY",
        "colab_type": "code",
        "colab": {}
      },
      "source": [
        ""
      ],
      "execution_count": null,
      "outputs": []
    },
    {
      "cell_type": "code",
      "metadata": {
        "id": "G5EQbb4WuoZr",
        "colab_type": "code",
        "colab": {}
      },
      "source": [
        ""
      ],
      "execution_count": null,
      "outputs": []
    }
  ]
}
