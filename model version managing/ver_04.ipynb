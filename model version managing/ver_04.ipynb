{
  "nbformat": 4,
  "nbformat_minor": 0,
  "metadata": {
    "colab": {
      "name": "modeling.ipynb",
      "provenance": [],
      "collapsed_sections": [],
      "authorship_tag": "ABX9TyPkD/M6X6bNWJheCs6isib/",
      "include_colab_link": true
    },
    "kernelspec": {
      "name": "python3",
      "display_name": "Python 3"
    }
  },
  "cells": [
    {
      "cell_type": "markdown",
      "metadata": {
        "id": "view-in-github",
        "colab_type": "text"
      },
      "source": [
        "<a href=\"https://colab.research.google.com/github/silverstar0727/n_body_problem/blob/master/modeling.ipynb\" target=\"_parent\"><img src=\"https://colab.research.google.com/assets/colab-badge.svg\" alt=\"Open In Colab\"/></a>"
      ]
    },
    {
      "cell_type": "markdown",
      "metadata": {
        "id": "OSWNOJ1J9EVv",
        "colab_type": "text"
      },
      "source": [
        "20y 07m 19d"
      ]
    },
    {
      "cell_type": "code",
      "metadata": {
        "id": "-vtf9M5vJNtC",
        "colab_type": "code",
        "colab": {}
      },
      "source": [
        "import numpy as np\n",
        "import math"
      ],
      "execution_count": 276,
      "outputs": []
    },
    {
      "cell_type": "code",
      "metadata": {
        "id": "y_byON7dU070",
        "colab_type": "code",
        "colab": {}
      },
      "source": [
        "# initial condition\n",
        "r_0 = [[0.23451, 3450.12, 0345.12], [1.1345, 0345.11, 0.13451], [5345.5345, 0.1345, 0345.1]] # [m]\n",
        "v_0 = [[-1, 1, 2], [45, 67, 32], [123, 345,235]] # [m/s]\n",
        "\n",
        "m1 = 1.989e30 # [m]\n",
        "m2 = 5.972e24\n",
        "m3 = 1.898e27\n",
        "m = [m1, m2, m3]"
      ],
      "execution_count": 277,
      "outputs": []
    },
    {
      "cell_type": "code",
      "metadata": {
        "id": "s4y33KbJU2mn",
        "colab_type": "code",
        "colab": {}
      },
      "source": [
        "# constant\n",
        "G = 6.6726e-11 # [Nm2/kg2]"
      ],
      "execution_count": 278,
      "outputs": []
    },
    {
      "cell_type": "markdown",
      "metadata": {
        "id": "IzyJdkfRA0h-",
        "colab_type": "text"
      },
      "source": [
        "![](https://upload.wikimedia.org/wikipedia/commons/b/bc/Spherical_coordinate.gif)"
      ]
    },
    {
      "cell_type": "code",
      "metadata": {
        "id": "GcY9bIJGgBIg",
        "colab_type": "code",
        "colab": {}
      },
      "source": [
        "# 물체 1,2\n",
        "def force12(r1, r2): # 물체 1과 2의 위치를 r1, r2의 직교좌표계 리스트로 받음\n",
        "  F = np.zeros(3)\n",
        "  r12 = np.zeros(3)\n",
        "\n",
        "  r12[0] = r1[0] - r2[0]\n",
        "  r12[1] = r1[1] - r2[1]\n",
        "  r12[2] = r1[2] - r2[2]\n",
        "\n",
        "  Fmag = G*m1*m2 / (np.linalg.norm(r12)**2) # 힘의크기\n",
        "  theta = np.arcsin(r12[2] / np.linalg.norm(r12)) # theta\n",
        "  pi = np.arctan(np.abs(r12[1]/np.abs(r12[0]))) # pi\n",
        "\n",
        "  # Force\n",
        "  F[0] = Fmag * np.cos(theta) * np.cos(pi) \n",
        "  F[1] = Fmag * np.cos(theta) * np.sin(pi)\n",
        "  F[2] = Fmag * np.sin(theta)\n",
        "\n",
        "  return F\n",
        "\n",
        "def force23(r2, r3):\n",
        "  F = np.zeros(3)\n",
        "  r23 = np.zeros(3)\n",
        "  \n",
        "  r23[0] = r2[0] - r3[0]\n",
        "  r23[1] = r2[1] - r3[1]\n",
        "  r23[2] = r2[2] - r3[2]\n",
        "\n",
        "  Fmag = G*m2*m3 / (np.linalg.norm(r23)**2)\n",
        "  theta = np.arcsin(r23[2] / np.linalg.norm(r23))\n",
        "  pi = np.arctan(np.abs(r23[1]/np.abs(r23[0])))\n",
        "\n",
        "  F[0] = Fmag * np.cos(theta) * np.cos(pi)\n",
        "  F[1] = Fmag * np.cos(theta) * np.sin(pi)\n",
        "  F[2] = Fmag * np.sin(theta)\n",
        "\n",
        "  return F\n",
        "\n",
        "def force13(r1, r3):\n",
        "  F = np.zeros(3)\n",
        "  r13 = np.zeros(3)\n",
        "  \n",
        "  r13[0] = r1[0] - r3[0]\n",
        "  r13[1] = r1[1] - r3[1]\n",
        "  r13[2] = r1[2] - r3[2]\n",
        "\n",
        "  Fmag = G*m1*m3 / (np.linalg.norm(r13)**2)\n",
        "  theta = np.arcsin(r13[2] / np.linalg.norm(r13))\n",
        "  pi = np.arctan(np.abs(r13[1]/np.abs(r13[0])))\n",
        "\n",
        "  F[0] = Fmag * np.cos(theta) * np.cos(pi)\n",
        "  F[1] = Fmag * np.cos(theta) * np.sin(pi)\n",
        "  F[2] = Fmag * np.sin(theta)\n",
        "\n",
        "  return F\n",
        "\n",
        "# 타겟 물체에 대한 net force\n",
        "def force(object_num, r0):\n",
        "  # 타겟 물체를 각각 1,2,3의 정수로 object_num인자에 받고, 초기위치를 직교좌표계로 r_0에 3x3개 좌표로받음\n",
        "  if object_num == 1:\n",
        "    return force12(r0[0], r0[1]) + force13(r0[0], r0[2])\n",
        "  \n",
        "  elif object_num == 2:\n",
        "    return -force12(r0[0], r0[1]) + force23(r0[1], r0[2])\n",
        "  \n",
        "  elif object_num == 3:\n",
        "    return -force13(r0[0],r0[2]) - force23(r0[1], r0[2])\n",
        "  \n",
        "  else:\n",
        "    print('object_num error')"
      ],
      "execution_count": 279,
      "outputs": []
    },
    {
      "cell_type": "code",
      "metadata": {
        "id": "RKwHKQ3Agds8",
        "colab_type": "code",
        "colab": {}
      },
      "source": [
        "# 2계 ODE를 2개의 1계 ODE의 연립으로 변환\n",
        "def dr_dt(t, r0, v0):\n",
        "  return v0\n",
        "\n",
        "def dv_dt(t, r0, v0):\n",
        "  result = []\n",
        "\n",
        "  for i in range(3):\n",
        "    result.append(force(i + 1, r0)/m[i])\n",
        "\n",
        "  return result\n",
        "\n",
        "# RK4 method를 이용한 numerical 풀이\n",
        "def RK4(t, r0, v0, h ): # r0, v0 = [[1의 r,v], [2의 r,v], [3의 r,v]]\n",
        "  r0 = np.array(r0)\n",
        "  v0 = np.array(v0)\n",
        "\n",
        "  a = h*np.array([dr_dt(t, r0, v0),\n",
        "                  dv_dt(t, r0, v0)])\n",
        "  b = h*np.array([dr_dt(t + 0.5*h, 0, v0 + 0.5*h*a[1]),\n",
        "                  dv_dt(t + 0.5*h, r0 + 0.5*h*a[0], 0)])\n",
        "  c = h*np.array([dr_dt(t + 0.5*h, 0, v0 + 0.5*h*b[1]),\n",
        "                  dv_dt(t + 0.5*h, r0 + 0.5*h*b[0], 0)])\n",
        "  d = h*np.array([dr_dt(t + h, 0, v0 + h*c[1]),\n",
        "                  dv_dt(t + h, r0 + h*c[0], 0)])\n",
        "  \n",
        "  \n",
        "  r0 = (1/6)*(a[0] + 2*b[0] + 2*c[0] + d[0])\n",
        "  v0 = (1/6)*(a[1] + 2*b[1] + 2*c[1] + d[1])\n",
        "  \n",
        "  return [r0, v0]"
      ],
      "execution_count": 280,
      "outputs": []
    },
    {
      "cell_type": "code",
      "metadata": {
        "id": "tY9mtJ7m67S3",
        "colab_type": "code",
        "colab": {}
      },
      "source": [
        "h = 0.1 # time step size\n",
        "t = 0  # time\n",
        "n = 10 # 반복 횟수\n",
        "\n",
        "r = [r_0] # 3중 리스트: 전체 시계열 - object n - 요소\n",
        "v = [v_0] # 3중 리스트: 전체 시계열 - object n - 요소\n",
        "for i in range(n):\n",
        "  r.append([])\n",
        "  v.append([])\n",
        "\n",
        "  result = RK4(t, r[-2], v[-2], h)\n",
        "  r[-1] = result[0]\n",
        "  v[-1] = result[1]"
      ],
      "execution_count": 281,
      "outputs": []
    },
    {
      "cell_type": "code",
      "metadata": {
        "id": "NW8PoOVXehfa",
        "colab_type": "code",
        "colab": {}
      },
      "source": [
        ""
      ],
      "execution_count": 281,
      "outputs": []
    }
  ]
}
