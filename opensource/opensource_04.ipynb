{
  "nbformat": 4,
  "nbformat_minor": 0,
  "metadata": {
    "colab": {
      "name": "opensource_04.ipynb",
      "provenance": [],
      "authorship_tag": "ABX9TyOZ/HWo20UZfGOZMDhtBYeH",
      "include_colab_link": true
    },
    "kernelspec": {
      "name": "python3",
      "display_name": "Python 3"
    }
  },
  "cells": [
    {
      "cell_type": "markdown",
      "metadata": {
        "id": "view-in-github",
        "colab_type": "text"
      },
      "source": [
        "<a href=\"https://colab.research.google.com/github/silverstar0727/n_body_problem/blob/master/opensource/opensource_04.ipynb\" target=\"_parent\"><img src=\"https://colab.research.google.com/assets/colab-badge.svg\" alt=\"Open In Colab\"/></a>"
      ]
    },
    {
      "cell_type": "markdown",
      "metadata": {
        "id": "yWoA9uTUNg-w",
        "colab_type": "text"
      },
      "source": [
        "#### How to write a three body climate simulation program in Python\n",
        "\n",
        "출처:\n",
        "https://laptrinhx.com/how-to-write-a-three-body-climate-simulation-program-in-python-4132914664/"
      ]
    },
    {
      "cell_type": "code",
      "metadata": {
        "id": "eGHZ33-OKmDn",
        "colab_type": "code",
        "colab": {
          "base_uri": "https://localhost:8080/",
          "height": 35
        },
        "outputId": "c1c21633-f20d-4540-962c-acb8fd59deb5"
      },
      "source": [
        "from random import randint\n",
        " \n",
        "# Where 0 represents that the sun is a flying star and 1 represents that the sun appears\n",
        "sun1 = randint(0, 1)\n",
        "sun2 = randint(0, 1)\n",
        "sun3 = randint(0, 1)\n",
        "# 1~3 They represent different positions. If the positions are the same, they are beads\n",
        "sun1_pos = randint(1, 3)\n",
        "sun2_pos = randint(1, 3)\n",
        "sun3_pos = randint(1, 3)\n",
        "\n",
        "weather = \"\"\n",
        "era_mode = \"\"\n",
        "\n",
        "if sun1 == sun2 == sun3 == 0:   # None of the three suns appeared\n",
        "  weather = \"Three flying stars\"\n",
        "  era_mode = \"Chaotic Era\"\n",
        "  print(era_mode, weather)    # Output climate\n",
        "\n",
        "elif sun1 == 1 and sun2 == sun3 == 0:\n",
        "  era_mode = \"Constant epoch\"\n",
        "  print(era_mode)\n",
        "\n",
        "elif sun2 == 1 and sun1 == sun3 == 0:\n",
        "  era_mode = \"Constant epoch\"\n",
        "  print(era_mode)\n",
        "\n",
        "elif sun3 == 1 and sun1 == sun2 == 0:\n",
        "  era_mode = \"Constant epoch\"\n",
        "  print(era_mode)\n",
        "\n",
        "elif sun1 == sun2 == sun3 == 1:\n",
        "  if sun1_pos == sun2_pos == sun3_pos:\n",
        "    weather = \"Three days continuous beads\"\n",
        "    era_mode = \"Chaotic Era\"\n",
        "    print(era_mode, weather)\n",
        "  else:\n",
        "    weather = \"Three days of Volley\"\n",
        "    era_mode = \"Chaotic Era\"\n",
        "    print(era_mode, weather)\n",
        "\n",
        "elif sun1 == sun2 == 1:\n",
        "  if sun1_pos == sun2_pos:\n",
        "    weather = \"Two days continuous beads\"\n",
        "    era_mode = \"Chaotic Era\"\n",
        "    print(era_mode, weather)\n",
        "  else:\n",
        "    weather = \"Two days of Volley\"\n",
        "    era_mode = \"Chaotic Era\"   \n",
        "    print(era_mode, weather)\n",
        "\n",
        "elif sun1 == sun3 == 1:\n",
        "  if sun1_pos == sun2_pos:\n",
        "    weather = \"Two days continuous beads\"\n",
        "    era_mode = \"Chaotic Era\"\n",
        "    print(era_mode, weather)\n",
        "  else:\n",
        "    weather = \"Two days of Volley\"\n",
        "    era_mode = \"Chaotic Era\"\n",
        "    print(era_mode, weather)\n",
        "\n",
        "elif sun2 == sun3 == 1:\n",
        "  if sun2_pos == sun3_pos:\n",
        "    weather = \"Two days continuous beads\"\n",
        "    era_mode = \"Chaotic Era\"\n",
        "    print(era_mode, weather)\n",
        "  else:\n",
        "    weather = \"Two days of Volley\"\n",
        "    era_mode = \"Chaotic Era\"\n",
        "    print(era_mode, weather)"
      ],
      "execution_count": 2,
      "outputs": [
        {
          "output_type": "stream",
          "text": [
            "Constant epoch\n"
          ],
          "name": "stdout"
        }
      ]
    },
    {
      "cell_type": "code",
      "metadata": {
        "id": "zr-pBRMNNTUG",
        "colab_type": "code",
        "colab": {}
      },
      "source": [
        ""
      ],
      "execution_count": null,
      "outputs": []
    }
  ]
}