{
  "nbformat": 4,
  "nbformat_minor": 0,
  "metadata": {
    "colab": {
      "name": "System_of_ODE_RK4_method.ipynb",
      "provenance": [],
      "collapsed_sections": [],
      "authorship_tag": "ABX9TyMWMqJAcESUkN7TWCsmV8a4",
      "include_colab_link": true
    },
    "kernelspec": {
      "name": "python3",
      "display_name": "Python 3"
    }
  },
  "cells": [
    {
      "cell_type": "markdown",
      "metadata": {
        "id": "view-in-github",
        "colab_type": "text"
      },
      "source": [
        "<a href=\"https://colab.research.google.com/github/silverstar0727/n_body_problem/blob/master/numerical%20analysis/System_of_ODE_RK4_method.ipynb\" target=\"_parent\"><img src=\"https://colab.research.google.com/assets/colab-badge.svg\" alt=\"Open In Colab\"/></a>"
      ]
    },
    {
      "cell_type": "markdown",
      "metadata": {
        "id": "BHeGdwq19l7U",
        "colab_type": "text"
      },
      "source": [
        "* ### systems of ODE에 대한 Runge-Kutta 방법\n",
        "\n",
        "Runge-Kutta 방법은 초기조건 $$y(x_0) = y_0$$과 보조값을 계산하는 \n",
        "$$ \\vec{k}_1 = h\\vec{f}(x_n, y_n)$$ \n",
        "$$\\vec{k}_2 = h\\vec{f}(x_n + {1\\over2}h, y_n + {1\\over2}\\vec{k}_1) $$\n",
        "$$ \\vec{k}_3 = h\\vec{f}(x_n + {1\\over2}h, y_n + {1\\over2}\\vec{k}_2) $$\n",
        "$$\\vec{k}_4 = h\\vec{f}(x_n + h, \\vec{y}_n + \\vec{k}_3)$$\n",
        "와 격자점 $x_{n+1} = x_0 + (n+1)h$에서 새로운 근사값 $y(x)$를 계산하는  $$\\vec{y}_{n+1} = \\vec{y}_n + {1\\over6}(\\vec{k}_1 + 2\\vec{k}_1 + 2\\vec{k}_3 + \\vec{k}_n)$$로 이루어진다.\n",
        "\n",
        "> 예1) Airy 방정식, Airy 함수 -> initial condition problem $$y'' = xy, y(0) = {1\\over 3^{2\\over3}\\Gamma({2\\over3})} = 0.35502805, y'(0) = {-1 \\over 3^{1\\over3} \\Gamma({1 \\over 3})} = -0.25881940 $$"
      ]
    },
    {
      "cell_type": "code",
      "metadata": {
        "id": "Qg9JypfdKYI1",
        "colab_type": "code",
        "colab": {}
      },
      "source": [
        "import numpy as np\n",
        "\n",
        "def RK4(t_0, x_0, v_0, h, n):\n",
        "  t = t_0\n",
        "  x = x_0\n",
        "  v = v_0\n",
        "\n",
        "  x_list = [x_0]\n",
        "  v_list = [v_0]\n",
        "  for i in range(n-1):\n",
        "    a = h*np.array([v, t*x])\n",
        "    b = h*np.array([v + 0.5*a[1], (t + 0.5*h)*(x + 0.5*a[0])])\n",
        "    c = h*np.array([v + 0.5*b[1], (t + 0.5*h)*(x + 0.5*b[0])])\n",
        "    d = h*np.array([v + c[1], (t + h)*(x + c[0])])\n",
        "\n",
        "    x = x + (1/6)*(a[0] + 2*b[0] + 2*c[0] + d[0])\n",
        "    v = v + (1/6)*(a[1] + 2*b[1] + 2*c[1] + d[1])\n",
        "    t += h\n",
        "\n",
        "    x_list.append(x)\n",
        "    v_list.append(v)\n",
        "\n",
        "  return x_list, v_list"
      ],
      "execution_count": null,
      "outputs": []
    },
    {
      "cell_type": "code",
      "metadata": {
        "id": "4myBV8ByNjE8",
        "colab_type": "code",
        "colab": {
          "base_uri": "https://localhost:8080/",
          "height": 233
        },
        "outputId": "abf257ef-9be2-426f-ec19-b385014f84ee"
      },
      "source": [
        "RK4(0, 0.35502805, -0.25881940, 0.2, 6)"
      ],
      "execution_count": null,
      "outputs": [
        {
          "output_type": "execute_result",
          "data": {
            "text/plain": [
              "([0.35502805,\n",
              "  0.30370303148,\n",
              "  0.2547421068487985,\n",
              "  0.2097997307222642,\n",
              "  0.1698459600062587,\n",
              "  0.13529207410907282],\n",
              " [-0.2588194,\n",
              "  -0.25240463545186664,\n",
              "  -0.23583072600605176,\n",
              "  -0.2127918456441403,\n",
              "  -0.18641170548396954,\n",
              "  -0.15914686891739935])"
            ]
          },
          "metadata": {
            "tags": []
          },
          "execution_count": 36
        }
      ]
    },
    {
      "cell_type": "markdown",
      "metadata": {
        "id": "vknjBhvWPHa1",
        "colab_type": "text"
      },
      "source": [
        "> 예2) 태양이 고정되어 있을 때 지구의 위치와 속도\n"
      ]
    },
    {
      "cell_type": "code",
      "metadata": {
        "id": "p0uC4v2DPGXm",
        "colab_type": "code",
        "colab": {}
      },
      "source": [
        "def f1(t, x, v):\n",
        "  return v\n",
        "\n",
        "def f2(t, x, v):\n",
        "  return (-9.81*1)/(x**2)\n",
        "\n",
        "def RK4(t_0, x_0, v_0, h, n):\n",
        "  t = t_0\n",
        "  x = x_0\n",
        "  v = v_0\n",
        "\n",
        "  x_list = [x_0]\n",
        "  v_list = [v_0]\n",
        "  for i in range(n-1):\n",
        "    a = h*np.array([f1(t,x,v), f2(t,x,v)])\n",
        "    b = h*np.array([f1(t + 0.5*h, x, v + 0.5*h*a[1]), f2(t + 0.5*h, x + 0.5*h*a[0], v)])\n",
        "    c = h*np.array([f1(t + 0.5*h, x, v + 0.5*h*b[1]), f2(t + 0.5*h, x + 0.5*h*b[0], v)])\n",
        "    d = h*np.array([f1(t + h, x, v + h*c[1]), f2(t + h, x + h*c[0], v)])\n",
        "\n",
        "    x = x + (1/6)*(a[0] + 2*b[0] + 2*c[0] + d[0])\n",
        "    v = v + (1/6)*(a[1] + 2*b[1] + 2*c[1] + d[1])\n",
        "    t += h\n",
        "\n",
        "    x_list.append(x)\n",
        "    v_list.append(v)\n",
        "\n",
        "  return x_list, v_list"
      ],
      "execution_count": null,
      "outputs": []
    },
    {
      "cell_type": "code",
      "metadata": {
        "id": "7LuFmeoNYuMx",
        "colab_type": "code",
        "colab": {
          "base_uri": "https://localhost:8080/",
          "height": 377
        },
        "outputId": "17516550-8316-43ad-9049-5339994190ed"
      },
      "source": [
        "RK4(0, 0.1, 0.1, 0.1, 10)"
      ],
      "execution_count": null,
      "outputs": [
        {
          "output_type": "execute_result",
          "data": {
            "text/plain": [
              "([0.1,\n",
              "  -0.4986313690833518,\n",
              "  -16.98097363591958,\n",
              "  -33.56157057671369,\n",
              "  -50.14246569952661,\n",
              "  -66.72344150790198,\n",
              "  -83.30445425962752,\n",
              "  -99.88548812574685,\n",
              "  -116.46653564086724,\n",
              "  -133.0475926998981],\n",
              " [0.1,\n",
              "  -164.7389758489367,\n",
              "  -165.80580961593293,\n",
              "  -165.80890906432526,\n",
              "  -165.80973899472068,\n",
              "  -165.8101166789579,\n",
              "  -165.81033168550306,\n",
              "  -165.8104702886877,\n",
              "  -165.8105670081975,\n",
              "  -165.81063831440653])"
            ]
          },
          "metadata": {
            "tags": []
          },
          "execution_count": 41
        }
      ]
    },
    {
      "cell_type": "code",
      "metadata": {
        "id": "CUd5Y5_px0x3",
        "colab_type": "code",
        "colab": {}
      },
      "source": [
        ""
      ],
      "execution_count": null,
      "outputs": []
    }
  ]
}