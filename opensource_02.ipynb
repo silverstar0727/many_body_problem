{
  "nbformat": 4,
  "nbformat_minor": 0,
  "metadata": {
    "colab": {
      "name": "opensource_02.ipynb",
      "provenance": [],
      "collapsed_sections": [],
      "authorship_tag": "ABX9TyMF8w/82rnorod4Zc0KtNt6",
      "include_colab_link": true
    },
    "kernelspec": {
      "name": "python3",
      "display_name": "Python 3"
    },
    "accelerator": "GPU"
  },
  "cells": [
    {
      "cell_type": "markdown",
      "metadata": {
        "id": "view-in-github",
        "colab_type": "text"
      },
      "source": [
        "<a href=\"https://colab.research.google.com/github/silverstar0727/many_body_problem/blob/master/opensource_02.ipynb\" target=\"_parent\"><img src=\"https://colab.research.google.com/assets/colab-badge.svg\" alt=\"Open In Colab\"/></a>"
      ]
    },
    {
      "cell_type": "code",
      "metadata": {
        "colab_type": "code",
        "outputId": "6d58b769-6090-45c1-ec50-bf3b80390542",
        "id": "B8VJtIk-S2Dt",
        "colab": {
          "base_uri": "https://localhost:8080/",
          "height": 127
        }
      },
      "source": [
        "# 구글 드라이브 연동\n",
        "from google.colab import drive\n",
        "\n",
        "drive.mount('/content/gdrive')"
      ],
      "execution_count": 0,
      "outputs": [
        {
          "output_type": "stream",
          "text": [
            "Go to this URL in a browser: https://accounts.google.com/o/oauth2/auth?client_id=947318989803-6bn6qk8qdgf4n4g3pfee6491hc0brc4i.apps.googleusercontent.com&redirect_uri=urn%3aietf%3awg%3aoauth%3a2.0%3aoob&response_type=code&scope=email%20https%3a%2f%2fwww.googleapis.com%2fauth%2fdocs.test%20https%3a%2f%2fwww.googleapis.com%2fauth%2fdrive%20https%3a%2f%2fwww.googleapis.com%2fauth%2fdrive.photos.readonly%20https%3a%2f%2fwww.googleapis.com%2fauth%2fpeopleapi.readonly\n",
            "\n",
            "Enter your authorization code:\n",
            "··········\n",
            "Mounted at /content/gdrive\n"
          ],
          "name": "stdout"
        }
      ]
    },
    {
      "cell_type": "code",
      "metadata": {
        "id": "a35qxlAlR0gB",
        "colab_type": "code",
        "outputId": "a2f2acaa-3f55-47a6-fee2-f307b89feb18",
        "colab": {
          "base_uri": "https://localhost:8080/",
          "height": 35
        }
      },
      "source": [
        "cd /content/gdrive/My Drive/sodo project"
      ],
      "execution_count": 0,
      "outputs": [
        {
          "output_type": "stream",
          "text": [
            "/content/gdrive/My Drive/sodo project\n"
          ],
          "name": "stdout"
        }
      ]
    },
    {
      "cell_type": "code",
      "metadata": {
        "colab_type": "code",
        "outputId": "9cdcf9ad-0fd0-49e3-d368-3e4b8689fbb4",
        "id": "1qqZY9gBS2EP",
        "colab": {
          "base_uri": "https://localhost:8080/",
          "height": 466
        }
      },
      "source": [
        "#!/usr/bin/env python3\n",
        "\n",
        "\"\"\"\n",
        "Three-body problem \n",
        "Spaceship-moon-earth system\n",
        "\"\"\"\n",
        "\n",
        "# Scientific libraries\n",
        "\n",
        "import numpy as np\n",
        "import matplotlib.pyplot as plt\n",
        "from mpl_toolkits.mplot3d import Axes3D\n",
        "from matplotlib.patches import FancyArrowPatch, Circle\n",
        "import mpl_toolkits.mplot3d.art3d as art3d\n",
        "from mpl_toolkits.mplot3d import proj3d\n",
        "from scipy.integrate import odeint\n",
        "from math import sqrt\n",
        "from random import randint\n",
        "\n",
        "# Differential system\n",
        "\n",
        "m1 = 5.974*10**24     # Earth\n",
        "m2 = 7.348*10**22     # Moon\n",
        "m3 = 10000               # Spaceship\n",
        "\n",
        "g = 6.672*10**(-11)    # gravitational constant\n",
        "\n",
        "def r(x, y, z):\n",
        "    return sqrt(x*x + y*y + z*z)\n",
        "\n",
        "def f(x, y, b, c, d1, d2, d3):\n",
        "    return -g*(m1+b)*x/(d1**3) + g*c*((y-x)/(d2**3)-y/(d3**3))\n",
        "\n",
        "def threebody(Y, t):\n",
        "    dY = [0 for i in range(12)]\n",
        "    dY[0] = Y[6]\n",
        "    dY[1] = Y[7]\n",
        "    dY[2] = Y[8]\n",
        "    dY[3] = Y[9]\n",
        "    dY[4] = Y[10]\n",
        "    dY[5] = Y[11]\n",
        "    r12 = r(Y[0], Y[1], Y[2])\n",
        "    r23 = r(Y[0]-Y[3], Y[1]-Y[4], Y[2]-Y[5])\n",
        "    r13 = r(Y[3], Y[4], Y[5])\n",
        "    dY[6] = f(Y[0], Y[3], m2, m3, r12, r23, r13)\n",
        "    dY[7] = f(Y[1], Y[4], m2, m3, r12, r23, r13)\n",
        "    dY[8] = f(Y[2], Y[5], m2, m3, r12, r23, r13)\n",
        "    dY[9] = f(Y[3], Y[0], m3, m2, r13, r23, r12)\n",
        "    dY[10] = f(Y[4], Y[1], m3, m2, r13, r23, r12)\n",
        "    dY[11] = f(Y[5], Y[2], m3, m2, r13, r23, r12)\n",
        "    return dY\n",
        "\n",
        "Y0 = [384.6*10**6, 0, 0, 1197000, -9928000, 0, 0, 1025, 0, 8490, -2455, 100]\n",
        "\n",
        "# Time : about three days\n",
        "time = np.arange(0, 265600, 1) \n",
        "orbit = odeint(threebody, Y0, time)\n",
        "x, y, z, a, b, c, dx, dy, dz, da, db, dc = orbit.T\n",
        "\n",
        "# Figure\n",
        "fig = plt.figure(figsize=(13,8))\n",
        "ax = fig.gca(projection='3d')\n",
        "ax.scatter(a[0], b[0], c[0], s=2000, c='b')\n",
        "\n",
        "# Moon's orbit plane\n",
        "plane = Circle((a[0], b[0]), ((a[0]-x[0])**2+(b[0]-y[0])**2+(c[0]-z[0])**2)**0.5)\n",
        "Circle.set_color(plane,'0.75')\n",
        "Circle.set_alpha(plane, 0.1)\n",
        "ax.add_patch(plane)\n",
        "art3d.pathpatch_2d_to_3d(plane, z=0, zdir=\"z\")\n",
        "\n",
        "# Some stars (real stars should *NOT* move so quickly!)\n",
        "ax.set_facecolor('#060A49')\n",
        "for k in range(50):\n",
        "    X = randint(-5*10**8, 5*10**8)\n",
        "    Y = randint(-1.5*10**8*2, 3*10**8*2)\n",
        "    Z = randint(-500000*2, 4000000*2)\n",
        "    ax.scatter(X, Y, Z, s=0.1, marker='x', c='white')\n",
        "\n",
        "# Spaceship's orbit\n",
        "for k in range(10, len(x), 2270):\n",
        "    i = (k-10)//2270\n",
        "    \n",
        "    ax.view_init(elev=i/5, azim=i/2)\n",
        "    ax.set_axis_off()\n",
        "    ax.set_xlim(0, 4*10**8)\n",
        "    ax.set_ylim(-0.5*10**8, 3*10**8)\n",
        "    ax.set_zlim(-500000, 4000000)\n",
        "    \n",
        "    # Moon\n",
        "    moon = ax.scatter(x[k], y[k], z[k], s=200, c='gray', marker='o')\n",
        "    ax.plot(x[:k], y[:k], z[:k], 'gray', linestyle='dashed', linewidth=0.4)\n",
        "\n",
        "    # Spaceship\n",
        "    spaceship = ax.scatter(a[k], b[k], c[k], s=50, c='red', marker='+')\n",
        "    ax.plot(a[:k], b[:k], c[:k], color='red', linestyle='dotted', linewidth=0.2)\n",
        "    #if i < 10:\n",
        "    #    plt.savefig('animation_three_body/img00'+str(i)+'.png')\n",
        "    #elif i<100:\n",
        "    #    plt.savefig('animation_three_body/img0'+str(i)+'.png')\n",
        "    #else:\n",
        "    #    plt.savefig('animation_three_body/img'+str(i)+'.png')\n",
        "    moon.remove()\n",
        "    spaceship.remove()"
      ],
      "execution_count": 0,
      "outputs": [
        {
          "output_type": "display_data",
          "data": {
            "image/png": "[encoded data removed]",
            "text/plain": [
              "<Figure size 936x576 with 1 Axes>"
            ]
          },
          "metadata": {
            "tags": [],
            "needs_background": "light"
          }
        }
      ]
    }
  ]
}